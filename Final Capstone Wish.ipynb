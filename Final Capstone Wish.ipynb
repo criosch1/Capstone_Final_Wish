{
 "cells": [
  {
   "cell_type": "markdown",
   "metadata": {},
   "source": [
    "# Final Capstone - Wish E- Commerce Analytics \n",
    "#### By Christian Rios-Chambi\n",
    "\n",
    "## This data comes from the Wish e-commerce platform.\n",
    "\n",
    "Dataset Description:\n",
    "\n",
    "*The products listed in the dataset are those that would appear if you type \"summer\" in the search field of the platform. There are no specific categories on the website, only tags.*\n",
    "\n",
    "*The data was scraped in the french localisation (from france) (hence some non-ascii latin characters such as « é » and « à ») in the title column.*\n",
    "\n",
    "*The title_orig on the other hand contains the original title (the base title) that is displayed by default. When a translation is provided by the seller, it appears in the title column. When the title and title_orig columns are the same, it generally means that the seller did not specify a translation that would be displayed to users with french settings.*\n",
    "\n",
    "*Studying top products requires more than just product listings. You also need to know what sells well and what does not.\n",
    "This dataset contains product listings as well as products ratings and sales performance, which you would not find in other datasets.*"
   ]
  },
  {
   "cell_type": "code",
   "execution_count": 1,
   "metadata": {},
   "outputs": [],
   "source": [
    "#libraries and settings used for this analysis\n",
    "import pandas as pd\n",
    "import numpy as np\n",
    "import matplotlib.pyplot as plt\n",
    "import seaborn as sns\n",
    "import statsmodels.formula.api as smf\n",
    "import pandas_profiling\n",
    "import warnings\n",
    "import collections\n",
    "from scipy import stats\n",
    "from statsmodels.graphics.gofplots import qqplot\n",
    "\n",
    "pd.options.mode.chained_assignment = None  # default='warn'\n",
    "pd.set_option('display.max_columns', None)\n",
    "pd.set_option('display.max_rows', None)\n",
    "\n",
    "plt.style.use('fivethirtyeight') #plot style\n",
    "sns.set_style(\"whitegrid\")\n",
    "\n",
    "warnings.filterwarnings(\"ignore\")"
   ]
  },
  {
   "cell_type": "code",
   "execution_count": 2,
   "metadata": {},
   "outputs": [],
   "source": [
    "#import data files\n",
    "wish = pd.read_csv('summer-products-with-rating-and-performance_2020-08.csv')\n",
    "cat = pd.read_csv('unique-categories.csv')\n",
    "sort_cat = pd.read_csv('unique-categories.sorted-by-count.csv')"
   ]
  },
  {
   "cell_type": "markdown",
   "metadata": {},
   "source": [
    "# Exploratory Data Analysis"
   ]
  },
  {
   "cell_type": "code",
   "execution_count": 3,
   "metadata": {},
   "outputs": [
    {
     "data": {
      "text/plain": [
       "(1573, 43)"
      ]
     },
     "execution_count": 3,
     "metadata": {},
     "output_type": "execute_result"
    }
   ],
   "source": [
    "#how many records are we dealing with?\n",
    "wish.shape"
   ]
  },
  {
   "cell_type": "code",
   "execution_count": 4,
   "metadata": {},
   "outputs": [
    {
     "data": {
      "text/plain": [
       "(2620, 1)"
      ]
     },
     "execution_count": 4,
     "metadata": {},
     "output_type": "execute_result"
    }
   ],
   "source": [
    "cat.shape"
   ]
  },
  {
   "cell_type": "code",
   "execution_count": 5,
   "metadata": {},
   "outputs": [
    {
     "data": {
      "text/plain": [
       "(2620, 2)"
      ]
     },
     "execution_count": 5,
     "metadata": {},
     "output_type": "execute_result"
    }
   ],
   "source": [
    "sort_cat.shape"
   ]
  },
  {
   "cell_type": "code",
   "execution_count": 6,
   "metadata": {},
   "outputs": [
    {
     "data": {
      "text/html": [
       "<div>\n",
       "<style scoped>\n",
       "    .dataframe tbody tr th:only-of-type {\n",
       "        vertical-align: middle;\n",
       "    }\n",
       "\n",
       "    .dataframe tbody tr th {\n",
       "        vertical-align: top;\n",
       "    }\n",
       "\n",
       "    .dataframe thead th {\n",
       "        text-align: right;\n",
       "    }\n",
       "</style>\n",
       "<table border=\"1\" class=\"dataframe\">\n",
       "  <thead>\n",
       "    <tr style=\"text-align: right;\">\n",
       "      <th></th>\n",
       "      <th>title</th>\n",
       "      <th>title_orig</th>\n",
       "      <th>price</th>\n",
       "      <th>retail_price</th>\n",
       "      <th>currency_buyer</th>\n",
       "      <th>units_sold</th>\n",
       "      <th>uses_ad_boosts</th>\n",
       "      <th>rating</th>\n",
       "      <th>rating_count</th>\n",
       "      <th>rating_five_count</th>\n",
       "      <th>rating_four_count</th>\n",
       "      <th>rating_three_count</th>\n",
       "      <th>rating_two_count</th>\n",
       "      <th>rating_one_count</th>\n",
       "      <th>badges_count</th>\n",
       "      <th>badge_local_product</th>\n",
       "      <th>badge_product_quality</th>\n",
       "      <th>badge_fast_shipping</th>\n",
       "      <th>tags</th>\n",
       "      <th>product_color</th>\n",
       "      <th>product_variation_size_id</th>\n",
       "      <th>product_variation_inventory</th>\n",
       "      <th>shipping_option_name</th>\n",
       "      <th>shipping_option_price</th>\n",
       "      <th>shipping_is_express</th>\n",
       "      <th>countries_shipped_to</th>\n",
       "      <th>inventory_total</th>\n",
       "      <th>has_urgency_banner</th>\n",
       "      <th>urgency_text</th>\n",
       "      <th>origin_country</th>\n",
       "      <th>merchant_title</th>\n",
       "      <th>merchant_name</th>\n",
       "      <th>merchant_info_subtitle</th>\n",
       "      <th>merchant_rating_count</th>\n",
       "      <th>merchant_rating</th>\n",
       "      <th>merchant_id</th>\n",
       "      <th>merchant_has_profile_picture</th>\n",
       "      <th>merchant_profile_picture</th>\n",
       "      <th>product_url</th>\n",
       "      <th>product_picture</th>\n",
       "      <th>product_id</th>\n",
       "      <th>theme</th>\n",
       "      <th>crawl_month</th>\n",
       "    </tr>\n",
       "  </thead>\n",
       "  <tbody>\n",
       "    <tr>\n",
       "      <th>0</th>\n",
       "      <td>2020 Summer Vintage Flamingo Print  Pajamas Se...</td>\n",
       "      <td>2020 Summer Vintage Flamingo Print  Pajamas Se...</td>\n",
       "      <td>16.00</td>\n",
       "      <td>14</td>\n",
       "      <td>EUR</td>\n",
       "      <td>100</td>\n",
       "      <td>0</td>\n",
       "      <td>3.76</td>\n",
       "      <td>54</td>\n",
       "      <td>26.0</td>\n",
       "      <td>8.0</td>\n",
       "      <td>10.0</td>\n",
       "      <td>1.0</td>\n",
       "      <td>9.0</td>\n",
       "      <td>0</td>\n",
       "      <td>0</td>\n",
       "      <td>0</td>\n",
       "      <td>0</td>\n",
       "      <td>Summer,Fashion,womenunderwearsuit,printedpajam...</td>\n",
       "      <td>white</td>\n",
       "      <td>M</td>\n",
       "      <td>50</td>\n",
       "      <td>Livraison standard</td>\n",
       "      <td>4</td>\n",
       "      <td>0</td>\n",
       "      <td>34</td>\n",
       "      <td>50</td>\n",
       "      <td>1.0</td>\n",
       "      <td>Quantité limitée !</td>\n",
       "      <td>CN</td>\n",
       "      <td>zgrdejia</td>\n",
       "      <td>zgrdejia</td>\n",
       "      <td>(568 notes)</td>\n",
       "      <td>568</td>\n",
       "      <td>4.128521</td>\n",
       "      <td>595097d6a26f6e070cb878d1</td>\n",
       "      <td>0</td>\n",
       "      <td>NaN</td>\n",
       "      <td>https://www.wish.com/c/5e9ae51d43d6a96e303acdb0</td>\n",
       "      <td>https://contestimg.wish.com/api/webimage/5e9ae...</td>\n",
       "      <td>5e9ae51d43d6a96e303acdb0</td>\n",
       "      <td>summer</td>\n",
       "      <td>2020-08</td>\n",
       "    </tr>\n",
       "    <tr>\n",
       "      <th>1</th>\n",
       "      <td>SSHOUSE Summer Casual Sleeveless Soirée Party ...</td>\n",
       "      <td>Women's Casual Summer Sleeveless Sexy Mini Dress</td>\n",
       "      <td>8.00</td>\n",
       "      <td>22</td>\n",
       "      <td>EUR</td>\n",
       "      <td>20000</td>\n",
       "      <td>1</td>\n",
       "      <td>3.45</td>\n",
       "      <td>6135</td>\n",
       "      <td>2269.0</td>\n",
       "      <td>1027.0</td>\n",
       "      <td>1118.0</td>\n",
       "      <td>644.0</td>\n",
       "      <td>1077.0</td>\n",
       "      <td>0</td>\n",
       "      <td>0</td>\n",
       "      <td>0</td>\n",
       "      <td>0</td>\n",
       "      <td>Mini,womens dresses,Summer,Patchwork,fashion d...</td>\n",
       "      <td>green</td>\n",
       "      <td>XS</td>\n",
       "      <td>50</td>\n",
       "      <td>Livraison standard</td>\n",
       "      <td>2</td>\n",
       "      <td>0</td>\n",
       "      <td>41</td>\n",
       "      <td>50</td>\n",
       "      <td>1.0</td>\n",
       "      <td>Quantité limitée !</td>\n",
       "      <td>CN</td>\n",
       "      <td>SaraHouse</td>\n",
       "      <td>sarahouse</td>\n",
       "      <td>83 % avis positifs (17,752 notes)</td>\n",
       "      <td>17752</td>\n",
       "      <td>3.899673</td>\n",
       "      <td>56458aa03a698c35c9050988</td>\n",
       "      <td>0</td>\n",
       "      <td>NaN</td>\n",
       "      <td>https://www.wish.com/c/58940d436a0d3d5da4e95a38</td>\n",
       "      <td>https://contestimg.wish.com/api/webimage/58940...</td>\n",
       "      <td>58940d436a0d3d5da4e95a38</td>\n",
       "      <td>summer</td>\n",
       "      <td>2020-08</td>\n",
       "    </tr>\n",
       "    <tr>\n",
       "      <th>2</th>\n",
       "      <td>2020 Nouvelle Arrivée Femmes Printemps et Été ...</td>\n",
       "      <td>2020 New Arrival Women Spring and Summer Beach...</td>\n",
       "      <td>8.00</td>\n",
       "      <td>43</td>\n",
       "      <td>EUR</td>\n",
       "      <td>100</td>\n",
       "      <td>0</td>\n",
       "      <td>3.57</td>\n",
       "      <td>14</td>\n",
       "      <td>5.0</td>\n",
       "      <td>4.0</td>\n",
       "      <td>2.0</td>\n",
       "      <td>0.0</td>\n",
       "      <td>3.0</td>\n",
       "      <td>0</td>\n",
       "      <td>0</td>\n",
       "      <td>0</td>\n",
       "      <td>0</td>\n",
       "      <td>Summer,cardigan,women beachwear,chiffon,Sexy w...</td>\n",
       "      <td>leopardprint</td>\n",
       "      <td>XS</td>\n",
       "      <td>1</td>\n",
       "      <td>Livraison standard</td>\n",
       "      <td>3</td>\n",
       "      <td>0</td>\n",
       "      <td>36</td>\n",
       "      <td>50</td>\n",
       "      <td>1.0</td>\n",
       "      <td>Quantité limitée !</td>\n",
       "      <td>CN</td>\n",
       "      <td>hxt520</td>\n",
       "      <td>hxt520</td>\n",
       "      <td>86 % avis positifs (295 notes)</td>\n",
       "      <td>295</td>\n",
       "      <td>3.989831</td>\n",
       "      <td>5d464a1ffdf7bc44ee933c65</td>\n",
       "      <td>0</td>\n",
       "      <td>NaN</td>\n",
       "      <td>https://www.wish.com/c/5ea10e2c617580260d55310a</td>\n",
       "      <td>https://contestimg.wish.com/api/webimage/5ea10...</td>\n",
       "      <td>5ea10e2c617580260d55310a</td>\n",
       "      <td>summer</td>\n",
       "      <td>2020-08</td>\n",
       "    </tr>\n",
       "    <tr>\n",
       "      <th>3</th>\n",
       "      <td>Hot Summer Cool T-shirt pour les femmes Mode T...</td>\n",
       "      <td>Hot Summer Cool T Shirt for Women Fashion Tops...</td>\n",
       "      <td>8.00</td>\n",
       "      <td>8</td>\n",
       "      <td>EUR</td>\n",
       "      <td>5000</td>\n",
       "      <td>1</td>\n",
       "      <td>4.03</td>\n",
       "      <td>579</td>\n",
       "      <td>295.0</td>\n",
       "      <td>119.0</td>\n",
       "      <td>87.0</td>\n",
       "      <td>42.0</td>\n",
       "      <td>36.0</td>\n",
       "      <td>0</td>\n",
       "      <td>0</td>\n",
       "      <td>0</td>\n",
       "      <td>0</td>\n",
       "      <td>Summer,Shorts,Cotton,Cotton T Shirt,Sleeve,pri...</td>\n",
       "      <td>black</td>\n",
       "      <td>M</td>\n",
       "      <td>50</td>\n",
       "      <td>Livraison standard</td>\n",
       "      <td>2</td>\n",
       "      <td>0</td>\n",
       "      <td>41</td>\n",
       "      <td>50</td>\n",
       "      <td>NaN</td>\n",
       "      <td>NaN</td>\n",
       "      <td>CN</td>\n",
       "      <td>allenfan</td>\n",
       "      <td>allenfan</td>\n",
       "      <td>(23,832 notes)</td>\n",
       "      <td>23832</td>\n",
       "      <td>4.020435</td>\n",
       "      <td>58cfdefdacb37b556efdff7c</td>\n",
       "      <td>0</td>\n",
       "      <td>NaN</td>\n",
       "      <td>https://www.wish.com/c/5cedf17ad1d44c52c59e4aca</td>\n",
       "      <td>https://contestimg.wish.com/api/webimage/5cedf...</td>\n",
       "      <td>5cedf17ad1d44c52c59e4aca</td>\n",
       "      <td>summer</td>\n",
       "      <td>2020-08</td>\n",
       "    </tr>\n",
       "    <tr>\n",
       "      <th>4</th>\n",
       "      <td>Femmes Shorts d'été à lacets taille élastique ...</td>\n",
       "      <td>Women Summer Shorts Lace Up Elastic Waistband ...</td>\n",
       "      <td>2.72</td>\n",
       "      <td>3</td>\n",
       "      <td>EUR</td>\n",
       "      <td>100</td>\n",
       "      <td>1</td>\n",
       "      <td>3.10</td>\n",
       "      <td>20</td>\n",
       "      <td>6.0</td>\n",
       "      <td>4.0</td>\n",
       "      <td>2.0</td>\n",
       "      <td>2.0</td>\n",
       "      <td>6.0</td>\n",
       "      <td>0</td>\n",
       "      <td>0</td>\n",
       "      <td>0</td>\n",
       "      <td>0</td>\n",
       "      <td>Summer,Plus Size,Lace,Casual pants,Bottom,pant...</td>\n",
       "      <td>yellow</td>\n",
       "      <td>S</td>\n",
       "      <td>1</td>\n",
       "      <td>Livraison standard</td>\n",
       "      <td>1</td>\n",
       "      <td>0</td>\n",
       "      <td>35</td>\n",
       "      <td>50</td>\n",
       "      <td>1.0</td>\n",
       "      <td>Quantité limitée !</td>\n",
       "      <td>CN</td>\n",
       "      <td>youngpeopleshop</td>\n",
       "      <td>happyhorses</td>\n",
       "      <td>85 % avis positifs (14,482 notes)</td>\n",
       "      <td>14482</td>\n",
       "      <td>4.001588</td>\n",
       "      <td>5ab3b592c3911a095ad5dadb</td>\n",
       "      <td>0</td>\n",
       "      <td>NaN</td>\n",
       "      <td>https://www.wish.com/c/5ebf5819ebac372b070b0e70</td>\n",
       "      <td>https://contestimg.wish.com/api/webimage/5ebf5...</td>\n",
       "      <td>5ebf5819ebac372b070b0e70</td>\n",
       "      <td>summer</td>\n",
       "      <td>2020-08</td>\n",
       "    </tr>\n",
       "  </tbody>\n",
       "</table>\n",
       "</div>"
      ],
      "text/plain": [
       "                                               title  \\\n",
       "0  2020 Summer Vintage Flamingo Print  Pajamas Se...   \n",
       "1  SSHOUSE Summer Casual Sleeveless Soirée Party ...   \n",
       "2  2020 Nouvelle Arrivée Femmes Printemps et Été ...   \n",
       "3  Hot Summer Cool T-shirt pour les femmes Mode T...   \n",
       "4  Femmes Shorts d'été à lacets taille élastique ...   \n",
       "\n",
       "                                          title_orig  price  retail_price  \\\n",
       "0  2020 Summer Vintage Flamingo Print  Pajamas Se...  16.00            14   \n",
       "1   Women's Casual Summer Sleeveless Sexy Mini Dress   8.00            22   \n",
       "2  2020 New Arrival Women Spring and Summer Beach...   8.00            43   \n",
       "3  Hot Summer Cool T Shirt for Women Fashion Tops...   8.00             8   \n",
       "4  Women Summer Shorts Lace Up Elastic Waistband ...   2.72             3   \n",
       "\n",
       "  currency_buyer  units_sold  uses_ad_boosts  rating  rating_count  \\\n",
       "0            EUR         100               0    3.76            54   \n",
       "1            EUR       20000               1    3.45          6135   \n",
       "2            EUR         100               0    3.57            14   \n",
       "3            EUR        5000               1    4.03           579   \n",
       "4            EUR         100               1    3.10            20   \n",
       "\n",
       "   rating_five_count  rating_four_count  rating_three_count  rating_two_count  \\\n",
       "0               26.0                8.0                10.0               1.0   \n",
       "1             2269.0             1027.0              1118.0             644.0   \n",
       "2                5.0                4.0                 2.0               0.0   \n",
       "3              295.0              119.0                87.0              42.0   \n",
       "4                6.0                4.0                 2.0               2.0   \n",
       "\n",
       "   rating_one_count  badges_count  badge_local_product  badge_product_quality  \\\n",
       "0               9.0             0                    0                      0   \n",
       "1            1077.0             0                    0                      0   \n",
       "2               3.0             0                    0                      0   \n",
       "3              36.0             0                    0                      0   \n",
       "4               6.0             0                    0                      0   \n",
       "\n",
       "   badge_fast_shipping                                               tags  \\\n",
       "0                    0  Summer,Fashion,womenunderwearsuit,printedpajam...   \n",
       "1                    0  Mini,womens dresses,Summer,Patchwork,fashion d...   \n",
       "2                    0  Summer,cardigan,women beachwear,chiffon,Sexy w...   \n",
       "3                    0  Summer,Shorts,Cotton,Cotton T Shirt,Sleeve,pri...   \n",
       "4                    0  Summer,Plus Size,Lace,Casual pants,Bottom,pant...   \n",
       "\n",
       "  product_color product_variation_size_id  product_variation_inventory  \\\n",
       "0         white                         M                           50   \n",
       "1         green                        XS                           50   \n",
       "2  leopardprint                        XS                            1   \n",
       "3         black                         M                           50   \n",
       "4        yellow                         S                            1   \n",
       "\n",
       "  shipping_option_name  shipping_option_price  shipping_is_express  \\\n",
       "0   Livraison standard                      4                    0   \n",
       "1   Livraison standard                      2                    0   \n",
       "2   Livraison standard                      3                    0   \n",
       "3   Livraison standard                      2                    0   \n",
       "4   Livraison standard                      1                    0   \n",
       "\n",
       "   countries_shipped_to  inventory_total  has_urgency_banner  \\\n",
       "0                    34               50                 1.0   \n",
       "1                    41               50                 1.0   \n",
       "2                    36               50                 1.0   \n",
       "3                    41               50                 NaN   \n",
       "4                    35               50                 1.0   \n",
       "\n",
       "         urgency_text origin_country   merchant_title merchant_name  \\\n",
       "0  Quantité limitée !             CN         zgrdejia      zgrdejia   \n",
       "1  Quantité limitée !             CN        SaraHouse     sarahouse   \n",
       "2  Quantité limitée !             CN           hxt520        hxt520   \n",
       "3                 NaN             CN         allenfan      allenfan   \n",
       "4  Quantité limitée !             CN  youngpeopleshop   happyhorses   \n",
       "\n",
       "              merchant_info_subtitle  merchant_rating_count  merchant_rating  \\\n",
       "0                        (568 notes)                    568         4.128521   \n",
       "1  83 % avis positifs (17,752 notes)                  17752         3.899673   \n",
       "2     86 % avis positifs (295 notes)                    295         3.989831   \n",
       "3                     (23,832 notes)                  23832         4.020435   \n",
       "4  85 % avis positifs (14,482 notes)                  14482         4.001588   \n",
       "\n",
       "                merchant_id  merchant_has_profile_picture  \\\n",
       "0  595097d6a26f6e070cb878d1                             0   \n",
       "1  56458aa03a698c35c9050988                             0   \n",
       "2  5d464a1ffdf7bc44ee933c65                             0   \n",
       "3  58cfdefdacb37b556efdff7c                             0   \n",
       "4  5ab3b592c3911a095ad5dadb                             0   \n",
       "\n",
       "  merchant_profile_picture                                      product_url  \\\n",
       "0                      NaN  https://www.wish.com/c/5e9ae51d43d6a96e303acdb0   \n",
       "1                      NaN  https://www.wish.com/c/58940d436a0d3d5da4e95a38   \n",
       "2                      NaN  https://www.wish.com/c/5ea10e2c617580260d55310a   \n",
       "3                      NaN  https://www.wish.com/c/5cedf17ad1d44c52c59e4aca   \n",
       "4                      NaN  https://www.wish.com/c/5ebf5819ebac372b070b0e70   \n",
       "\n",
       "                                     product_picture  \\\n",
       "0  https://contestimg.wish.com/api/webimage/5e9ae...   \n",
       "1  https://contestimg.wish.com/api/webimage/58940...   \n",
       "2  https://contestimg.wish.com/api/webimage/5ea10...   \n",
       "3  https://contestimg.wish.com/api/webimage/5cedf...   \n",
       "4  https://contestimg.wish.com/api/webimage/5ebf5...   \n",
       "\n",
       "                 product_id   theme crawl_month  \n",
       "0  5e9ae51d43d6a96e303acdb0  summer     2020-08  \n",
       "1  58940d436a0d3d5da4e95a38  summer     2020-08  \n",
       "2  5ea10e2c617580260d55310a  summer     2020-08  \n",
       "3  5cedf17ad1d44c52c59e4aca  summer     2020-08  \n",
       "4  5ebf5819ebac372b070b0e70  summer     2020-08  "
      ]
     },
     "execution_count": 6,
     "metadata": {},
     "output_type": "execute_result"
    }
   ],
   "source": [
    "wish.head(5)"
   ]
  },
  {
   "cell_type": "code",
   "execution_count": 7,
   "metadata": {},
   "outputs": [
    {
     "data": {
      "text/html": [
       "<div>\n",
       "<style scoped>\n",
       "    .dataframe tbody tr th:only-of-type {\n",
       "        vertical-align: middle;\n",
       "    }\n",
       "\n",
       "    .dataframe tbody tr th {\n",
       "        vertical-align: top;\n",
       "    }\n",
       "\n",
       "    .dataframe thead th {\n",
       "        text-align: right;\n",
       "    }\n",
       "</style>\n",
       "<table border=\"1\" class=\"dataframe\">\n",
       "  <thead>\n",
       "    <tr style=\"text-align: right;\">\n",
       "      <th></th>\n",
       "      <th>title</th>\n",
       "      <th>title_orig</th>\n",
       "      <th>price</th>\n",
       "      <th>retail_price</th>\n",
       "      <th>currency_buyer</th>\n",
       "      <th>units_sold</th>\n",
       "      <th>uses_ad_boosts</th>\n",
       "      <th>rating</th>\n",
       "      <th>rating_count</th>\n",
       "      <th>rating_five_count</th>\n",
       "      <th>rating_four_count</th>\n",
       "      <th>rating_three_count</th>\n",
       "      <th>rating_two_count</th>\n",
       "      <th>rating_one_count</th>\n",
       "      <th>badges_count</th>\n",
       "      <th>badge_local_product</th>\n",
       "      <th>badge_product_quality</th>\n",
       "      <th>badge_fast_shipping</th>\n",
       "      <th>tags</th>\n",
       "      <th>product_color</th>\n",
       "      <th>product_variation_size_id</th>\n",
       "      <th>product_variation_inventory</th>\n",
       "      <th>shipping_option_name</th>\n",
       "      <th>shipping_option_price</th>\n",
       "      <th>shipping_is_express</th>\n",
       "      <th>countries_shipped_to</th>\n",
       "      <th>inventory_total</th>\n",
       "      <th>has_urgency_banner</th>\n",
       "      <th>urgency_text</th>\n",
       "      <th>origin_country</th>\n",
       "      <th>merchant_title</th>\n",
       "      <th>merchant_name</th>\n",
       "      <th>merchant_info_subtitle</th>\n",
       "      <th>merchant_rating_count</th>\n",
       "      <th>merchant_rating</th>\n",
       "      <th>merchant_id</th>\n",
       "      <th>merchant_has_profile_picture</th>\n",
       "      <th>merchant_profile_picture</th>\n",
       "      <th>product_url</th>\n",
       "      <th>product_picture</th>\n",
       "      <th>product_id</th>\n",
       "      <th>theme</th>\n",
       "      <th>crawl_month</th>\n",
       "    </tr>\n",
       "  </thead>\n",
       "  <tbody>\n",
       "    <tr>\n",
       "      <th>1568</th>\n",
       "      <td>Nouvelle Mode Femmes Bohême Pissenlit Imprimer...</td>\n",
       "      <td>New Fashion Women Bohemia Dandelion Print Tee ...</td>\n",
       "      <td>6.0</td>\n",
       "      <td>9</td>\n",
       "      <td>EUR</td>\n",
       "      <td>10000</td>\n",
       "      <td>1</td>\n",
       "      <td>4.08</td>\n",
       "      <td>1367</td>\n",
       "      <td>722.0</td>\n",
       "      <td>293.0</td>\n",
       "      <td>185.0</td>\n",
       "      <td>77.0</td>\n",
       "      <td>90.0</td>\n",
       "      <td>0</td>\n",
       "      <td>0</td>\n",
       "      <td>0</td>\n",
       "      <td>0</td>\n",
       "      <td>bohemia,Plus Size,dandelionfloralprinted,short...</td>\n",
       "      <td>navyblue</td>\n",
       "      <td>S</td>\n",
       "      <td>50</td>\n",
       "      <td>Livraison standard</td>\n",
       "      <td>2</td>\n",
       "      <td>0</td>\n",
       "      <td>41</td>\n",
       "      <td>50</td>\n",
       "      <td>NaN</td>\n",
       "      <td>NaN</td>\n",
       "      <td>CN</td>\n",
       "      <td>cxuelin99126</td>\n",
       "      <td>cxuelin99126</td>\n",
       "      <td>90 % avis positifs (5,316 notes)</td>\n",
       "      <td>5316</td>\n",
       "      <td>4.224605</td>\n",
       "      <td>5b507899ab577736508a0782</td>\n",
       "      <td>0</td>\n",
       "      <td>NaN</td>\n",
       "      <td>https://www.wish.com/c/5d5fadc99febd9356cbc52ee</td>\n",
       "      <td>https://contestimg.wish.com/api/webimage/5d5fa...</td>\n",
       "      <td>5d5fadc99febd9356cbc52ee</td>\n",
       "      <td>summer</td>\n",
       "      <td>2020-08</td>\n",
       "    </tr>\n",
       "    <tr>\n",
       "      <th>1569</th>\n",
       "      <td>10 couleurs femmes shorts d'été lacent ceintur...</td>\n",
       "      <td>10 Color Women Summer Shorts Lace Up Elastic W...</td>\n",
       "      <td>2.0</td>\n",
       "      <td>56</td>\n",
       "      <td>EUR</td>\n",
       "      <td>100</td>\n",
       "      <td>1</td>\n",
       "      <td>3.07</td>\n",
       "      <td>28</td>\n",
       "      <td>11.0</td>\n",
       "      <td>3.0</td>\n",
       "      <td>1.0</td>\n",
       "      <td>3.0</td>\n",
       "      <td>10.0</td>\n",
       "      <td>0</td>\n",
       "      <td>0</td>\n",
       "      <td>0</td>\n",
       "      <td>0</td>\n",
       "      <td>Summer,Panties,Elastic,Lace,Casual pants,casua...</td>\n",
       "      <td>lightblue</td>\n",
       "      <td>S</td>\n",
       "      <td>2</td>\n",
       "      <td>Livraison standard</td>\n",
       "      <td>1</td>\n",
       "      <td>0</td>\n",
       "      <td>26</td>\n",
       "      <td>50</td>\n",
       "      <td>1.0</td>\n",
       "      <td>Quantité limitée !</td>\n",
       "      <td>CN</td>\n",
       "      <td>sell best quality goods</td>\n",
       "      <td>sellbestqualitygoods</td>\n",
       "      <td>(4,435 notes)</td>\n",
       "      <td>4435</td>\n",
       "      <td>3.696054</td>\n",
       "      <td>54d83b6b6b8a771e478558de</td>\n",
       "      <td>0</td>\n",
       "      <td>NaN</td>\n",
       "      <td>https://www.wish.com/c/5eccd22b4497b86fd48f16b4</td>\n",
       "      <td>https://contestimg.wish.com/api/webimage/5eccd...</td>\n",
       "      <td>5eccd22b4497b86fd48f16b4</td>\n",
       "      <td>summer</td>\n",
       "      <td>2020-08</td>\n",
       "    </tr>\n",
       "    <tr>\n",
       "      <th>1570</th>\n",
       "      <td>Nouveautés Hommes Siwmwear Beach-Shorts Hommes...</td>\n",
       "      <td>New Men Siwmwear Beach-Shorts Men Summer Quick...</td>\n",
       "      <td>5.0</td>\n",
       "      <td>19</td>\n",
       "      <td>EUR</td>\n",
       "      <td>100</td>\n",
       "      <td>0</td>\n",
       "      <td>3.71</td>\n",
       "      <td>59</td>\n",
       "      <td>24.0</td>\n",
       "      <td>15.0</td>\n",
       "      <td>8.0</td>\n",
       "      <td>3.0</td>\n",
       "      <td>9.0</td>\n",
       "      <td>0</td>\n",
       "      <td>0</td>\n",
       "      <td>0</td>\n",
       "      <td>0</td>\n",
       "      <td>runningshort,Beach Shorts,beachpant,menbeachsh...</td>\n",
       "      <td>white</td>\n",
       "      <td>SIZE S</td>\n",
       "      <td>15</td>\n",
       "      <td>Livraison standard</td>\n",
       "      <td>2</td>\n",
       "      <td>0</td>\n",
       "      <td>11</td>\n",
       "      <td>50</td>\n",
       "      <td>NaN</td>\n",
       "      <td>NaN</td>\n",
       "      <td>CN</td>\n",
       "      <td>shixueying</td>\n",
       "      <td>shixueying</td>\n",
       "      <td>86 % avis positifs (210 notes)</td>\n",
       "      <td>210</td>\n",
       "      <td>3.961905</td>\n",
       "      <td>5b42da1bf64320209fc8da69</td>\n",
       "      <td>0</td>\n",
       "      <td>NaN</td>\n",
       "      <td>https://www.wish.com/c/5e74be96034d613d42b52dfe</td>\n",
       "      <td>https://contestimg.wish.com/api/webimage/5e74b...</td>\n",
       "      <td>5e74be96034d613d42b52dfe</td>\n",
       "      <td>summer</td>\n",
       "      <td>2020-08</td>\n",
       "    </tr>\n",
       "    <tr>\n",
       "      <th>1571</th>\n",
       "      <td>Mode femmes d'été sans manches robes col en V ...</td>\n",
       "      <td>Fashion Women Summer Sleeveless Dresses V Neck...</td>\n",
       "      <td>13.0</td>\n",
       "      <td>11</td>\n",
       "      <td>EUR</td>\n",
       "      <td>100</td>\n",
       "      <td>0</td>\n",
       "      <td>2.50</td>\n",
       "      <td>2</td>\n",
       "      <td>0.0</td>\n",
       "      <td>1.0</td>\n",
       "      <td>0.0</td>\n",
       "      <td>0.0</td>\n",
       "      <td>1.0</td>\n",
       "      <td>0</td>\n",
       "      <td>0</td>\n",
       "      <td>0</td>\n",
       "      <td>0</td>\n",
       "      <td>Summer,fashion women,Fashion,Lace,Dresses,Dres...</td>\n",
       "      <td>white</td>\n",
       "      <td>Size S.</td>\n",
       "      <td>36</td>\n",
       "      <td>Livraison standard</td>\n",
       "      <td>3</td>\n",
       "      <td>0</td>\n",
       "      <td>29</td>\n",
       "      <td>50</td>\n",
       "      <td>NaN</td>\n",
       "      <td>NaN</td>\n",
       "      <td>CN</td>\n",
       "      <td>modai</td>\n",
       "      <td>modai</td>\n",
       "      <td>77 % avis positifs (31 notes)</td>\n",
       "      <td>31</td>\n",
       "      <td>3.774194</td>\n",
       "      <td>5d56b32c40defd78043d5af9</td>\n",
       "      <td>0</td>\n",
       "      <td>NaN</td>\n",
       "      <td>https://www.wish.com/c/5eda07ab0e295c2097c36590</td>\n",
       "      <td>https://contestimg.wish.com/api/webimage/5eda0...</td>\n",
       "      <td>5eda07ab0e295c2097c36590</td>\n",
       "      <td>summer</td>\n",
       "      <td>2020-08</td>\n",
       "    </tr>\n",
       "    <tr>\n",
       "      <th>1572</th>\n",
       "      <td>Pantalon de yoga pour femmes à la mode Slim Fi...</td>\n",
       "      <td>Fashion Women Yoga Pants Slim Fit Fitness Runn...</td>\n",
       "      <td>7.0</td>\n",
       "      <td>6</td>\n",
       "      <td>EUR</td>\n",
       "      <td>100</td>\n",
       "      <td>1</td>\n",
       "      <td>4.07</td>\n",
       "      <td>14</td>\n",
       "      <td>8.0</td>\n",
       "      <td>3.0</td>\n",
       "      <td>1.0</td>\n",
       "      <td>0.0</td>\n",
       "      <td>2.0</td>\n",
       "      <td>0</td>\n",
       "      <td>0</td>\n",
       "      <td>0</td>\n",
       "      <td>0</td>\n",
       "      <td>Summer,Leggings,slim,Yoga,pants,Slim Fit,Women...</td>\n",
       "      <td>red</td>\n",
       "      <td>S</td>\n",
       "      <td>50</td>\n",
       "      <td>Livraison standard</td>\n",
       "      <td>2</td>\n",
       "      <td>0</td>\n",
       "      <td>41</td>\n",
       "      <td>50</td>\n",
       "      <td>NaN</td>\n",
       "      <td>NaN</td>\n",
       "      <td>CN</td>\n",
       "      <td>AISHOPPINGMALL</td>\n",
       "      <td>aishoppingmall</td>\n",
       "      <td>90 % avis positifs (7,023 notes)</td>\n",
       "      <td>7023</td>\n",
       "      <td>4.235939</td>\n",
       "      <td>5a409cf87b584e7951b2e25f</td>\n",
       "      <td>0</td>\n",
       "      <td>NaN</td>\n",
       "      <td>https://www.wish.com/c/5e857321f53c3d2d8f25e7ed</td>\n",
       "      <td>https://contestimg.wish.com/api/webimage/5e857...</td>\n",
       "      <td>5e857321f53c3d2d8f25e7ed</td>\n",
       "      <td>summer</td>\n",
       "      <td>2020-08</td>\n",
       "    </tr>\n",
       "  </tbody>\n",
       "</table>\n",
       "</div>"
      ],
      "text/plain": [
       "                                                  title  \\\n",
       "1568  Nouvelle Mode Femmes Bohême Pissenlit Imprimer...   \n",
       "1569  10 couleurs femmes shorts d'été lacent ceintur...   \n",
       "1570  Nouveautés Hommes Siwmwear Beach-Shorts Hommes...   \n",
       "1571  Mode femmes d'été sans manches robes col en V ...   \n",
       "1572  Pantalon de yoga pour femmes à la mode Slim Fi...   \n",
       "\n",
       "                                             title_orig  price  retail_price  \\\n",
       "1568  New Fashion Women Bohemia Dandelion Print Tee ...    6.0             9   \n",
       "1569  10 Color Women Summer Shorts Lace Up Elastic W...    2.0            56   \n",
       "1570  New Men Siwmwear Beach-Shorts Men Summer Quick...    5.0            19   \n",
       "1571  Fashion Women Summer Sleeveless Dresses V Neck...   13.0            11   \n",
       "1572  Fashion Women Yoga Pants Slim Fit Fitness Runn...    7.0             6   \n",
       "\n",
       "     currency_buyer  units_sold  uses_ad_boosts  rating  rating_count  \\\n",
       "1568            EUR       10000               1    4.08          1367   \n",
       "1569            EUR         100               1    3.07            28   \n",
       "1570            EUR         100               0    3.71            59   \n",
       "1571            EUR         100               0    2.50             2   \n",
       "1572            EUR         100               1    4.07            14   \n",
       "\n",
       "      rating_five_count  rating_four_count  rating_three_count  \\\n",
       "1568              722.0              293.0               185.0   \n",
       "1569               11.0                3.0                 1.0   \n",
       "1570               24.0               15.0                 8.0   \n",
       "1571                0.0                1.0                 0.0   \n",
       "1572                8.0                3.0                 1.0   \n",
       "\n",
       "      rating_two_count  rating_one_count  badges_count  badge_local_product  \\\n",
       "1568              77.0              90.0             0                    0   \n",
       "1569               3.0              10.0             0                    0   \n",
       "1570               3.0               9.0             0                    0   \n",
       "1571               0.0               1.0             0                    0   \n",
       "1572               0.0               2.0             0                    0   \n",
       "\n",
       "      badge_product_quality  badge_fast_shipping  \\\n",
       "1568                      0                    0   \n",
       "1569                      0                    0   \n",
       "1570                      0                    0   \n",
       "1571                      0                    0   \n",
       "1572                      0                    0   \n",
       "\n",
       "                                                   tags product_color  \\\n",
       "1568  bohemia,Plus Size,dandelionfloralprinted,short...      navyblue   \n",
       "1569  Summer,Panties,Elastic,Lace,Casual pants,casua...     lightblue   \n",
       "1570  runningshort,Beach Shorts,beachpant,menbeachsh...         white   \n",
       "1571  Summer,fashion women,Fashion,Lace,Dresses,Dres...         white   \n",
       "1572  Summer,Leggings,slim,Yoga,pants,Slim Fit,Women...           red   \n",
       "\n",
       "     product_variation_size_id  product_variation_inventory  \\\n",
       "1568                         S                           50   \n",
       "1569                         S                            2   \n",
       "1570                    SIZE S                           15   \n",
       "1571                   Size S.                           36   \n",
       "1572                         S                           50   \n",
       "\n",
       "     shipping_option_name  shipping_option_price  shipping_is_express  \\\n",
       "1568   Livraison standard                      2                    0   \n",
       "1569   Livraison standard                      1                    0   \n",
       "1570   Livraison standard                      2                    0   \n",
       "1571   Livraison standard                      3                    0   \n",
       "1572   Livraison standard                      2                    0   \n",
       "\n",
       "      countries_shipped_to  inventory_total  has_urgency_banner  \\\n",
       "1568                    41               50                 NaN   \n",
       "1569                    26               50                 1.0   \n",
       "1570                    11               50                 NaN   \n",
       "1571                    29               50                 NaN   \n",
       "1572                    41               50                 NaN   \n",
       "\n",
       "            urgency_text origin_country           merchant_title  \\\n",
       "1568                 NaN             CN             cxuelin99126   \n",
       "1569  Quantité limitée !             CN  sell best quality goods   \n",
       "1570                 NaN             CN               shixueying   \n",
       "1571                 NaN             CN                    modai   \n",
       "1572                 NaN             CN           AISHOPPINGMALL   \n",
       "\n",
       "             merchant_name            merchant_info_subtitle  \\\n",
       "1568          cxuelin99126  90 % avis positifs (5,316 notes)   \n",
       "1569  sellbestqualitygoods                     (4,435 notes)   \n",
       "1570            shixueying    86 % avis positifs (210 notes)   \n",
       "1571                 modai     77 % avis positifs (31 notes)   \n",
       "1572        aishoppingmall  90 % avis positifs (7,023 notes)   \n",
       "\n",
       "      merchant_rating_count  merchant_rating               merchant_id  \\\n",
       "1568                   5316         4.224605  5b507899ab577736508a0782   \n",
       "1569                   4435         3.696054  54d83b6b6b8a771e478558de   \n",
       "1570                    210         3.961905  5b42da1bf64320209fc8da69   \n",
       "1571                     31         3.774194  5d56b32c40defd78043d5af9   \n",
       "1572                   7023         4.235939  5a409cf87b584e7951b2e25f   \n",
       "\n",
       "      merchant_has_profile_picture merchant_profile_picture  \\\n",
       "1568                             0                      NaN   \n",
       "1569                             0                      NaN   \n",
       "1570                             0                      NaN   \n",
       "1571                             0                      NaN   \n",
       "1572                             0                      NaN   \n",
       "\n",
       "                                          product_url  \\\n",
       "1568  https://www.wish.com/c/5d5fadc99febd9356cbc52ee   \n",
       "1569  https://www.wish.com/c/5eccd22b4497b86fd48f16b4   \n",
       "1570  https://www.wish.com/c/5e74be96034d613d42b52dfe   \n",
       "1571  https://www.wish.com/c/5eda07ab0e295c2097c36590   \n",
       "1572  https://www.wish.com/c/5e857321f53c3d2d8f25e7ed   \n",
       "\n",
       "                                        product_picture  \\\n",
       "1568  https://contestimg.wish.com/api/webimage/5d5fa...   \n",
       "1569  https://contestimg.wish.com/api/webimage/5eccd...   \n",
       "1570  https://contestimg.wish.com/api/webimage/5e74b...   \n",
       "1571  https://contestimg.wish.com/api/webimage/5eda0...   \n",
       "1572  https://contestimg.wish.com/api/webimage/5e857...   \n",
       "\n",
       "                    product_id   theme crawl_month  \n",
       "1568  5d5fadc99febd9356cbc52ee  summer     2020-08  \n",
       "1569  5eccd22b4497b86fd48f16b4  summer     2020-08  \n",
       "1570  5e74be96034d613d42b52dfe  summer     2020-08  \n",
       "1571  5eda07ab0e295c2097c36590  summer     2020-08  \n",
       "1572  5e857321f53c3d2d8f25e7ed  summer     2020-08  "
      ]
     },
     "execution_count": 7,
     "metadata": {},
     "output_type": "execute_result"
    }
   ],
   "source": [
    "wish.tail(5)"
   ]
  },
  {
   "cell_type": "code",
   "execution_count": 8,
   "metadata": {},
   "outputs": [
    {
     "data": {
      "text/plain": [
       "Index(['title', 'title_orig', 'price', 'retail_price', 'currency_buyer',\n",
       "       'units_sold', 'uses_ad_boosts', 'rating', 'rating_count',\n",
       "       'rating_five_count', 'rating_four_count', 'rating_three_count',\n",
       "       'rating_two_count', 'rating_one_count', 'badges_count',\n",
       "       'badge_local_product', 'badge_product_quality', 'badge_fast_shipping',\n",
       "       'tags', 'product_color', 'product_variation_size_id',\n",
       "       'product_variation_inventory', 'shipping_option_name',\n",
       "       'shipping_option_price', 'shipping_is_express', 'countries_shipped_to',\n",
       "       'inventory_total', 'has_urgency_banner', 'urgency_text',\n",
       "       'origin_country', 'merchant_title', 'merchant_name',\n",
       "       'merchant_info_subtitle', 'merchant_rating_count', 'merchant_rating',\n",
       "       'merchant_id', 'merchant_has_profile_picture',\n",
       "       'merchant_profile_picture', 'product_url', 'product_picture',\n",
       "       'product_id', 'theme', 'crawl_month'],\n",
       "      dtype='object')"
      ]
     },
     "execution_count": 8,
     "metadata": {},
     "output_type": "execute_result"
    }
   ],
   "source": [
    "wish.columns"
   ]
  },
  {
   "cell_type": "code",
   "execution_count": 9,
   "metadata": {},
   "outputs": [
    {
     "name": "stdout",
     "output_type": "stream",
     "text": [
      "<class 'pandas.core.frame.DataFrame'>\n",
      "RangeIndex: 1573 entries, 0 to 1572\n",
      "Data columns (total 43 columns):\n",
      " #   Column                        Non-Null Count  Dtype  \n",
      "---  ------                        --------------  -----  \n",
      " 0   title                         1573 non-null   object \n",
      " 1   title_orig                    1573 non-null   object \n",
      " 2   price                         1573 non-null   float64\n",
      " 3   retail_price                  1573 non-null   int64  \n",
      " 4   currency_buyer                1573 non-null   object \n",
      " 5   units_sold                    1573 non-null   int64  \n",
      " 6   uses_ad_boosts                1573 non-null   int64  \n",
      " 7   rating                        1573 non-null   float64\n",
      " 8   rating_count                  1573 non-null   int64  \n",
      " 9   rating_five_count             1528 non-null   float64\n",
      " 10  rating_four_count             1528 non-null   float64\n",
      " 11  rating_three_count            1528 non-null   float64\n",
      " 12  rating_two_count              1528 non-null   float64\n",
      " 13  rating_one_count              1528 non-null   float64\n",
      " 14  badges_count                  1573 non-null   int64  \n",
      " 15  badge_local_product           1573 non-null   int64  \n",
      " 16  badge_product_quality         1573 non-null   int64  \n",
      " 17  badge_fast_shipping           1573 non-null   int64  \n",
      " 18  tags                          1573 non-null   object \n",
      " 19  product_color                 1532 non-null   object \n",
      " 20  product_variation_size_id     1559 non-null   object \n",
      " 21  product_variation_inventory   1573 non-null   int64  \n",
      " 22  shipping_option_name          1573 non-null   object \n",
      " 23  shipping_option_price         1573 non-null   int64  \n",
      " 24  shipping_is_express           1573 non-null   int64  \n",
      " 25  countries_shipped_to          1573 non-null   int64  \n",
      " 26  inventory_total               1573 non-null   int64  \n",
      " 27  has_urgency_banner            473 non-null    float64\n",
      " 28  urgency_text                  473 non-null    object \n",
      " 29  origin_country                1556 non-null   object \n",
      " 30  merchant_title                1573 non-null   object \n",
      " 31  merchant_name                 1569 non-null   object \n",
      " 32  merchant_info_subtitle        1572 non-null   object \n",
      " 33  merchant_rating_count         1573 non-null   int64  \n",
      " 34  merchant_rating               1573 non-null   float64\n",
      " 35  merchant_id                   1573 non-null   object \n",
      " 36  merchant_has_profile_picture  1573 non-null   int64  \n",
      " 37  merchant_profile_picture      226 non-null    object \n",
      " 38  product_url                   1573 non-null   object \n",
      " 39  product_picture               1573 non-null   object \n",
      " 40  product_id                    1573 non-null   object \n",
      " 41  theme                         1573 non-null   object \n",
      " 42  crawl_month                   1573 non-null   object \n",
      "dtypes: float64(9), int64(15), object(19)\n",
      "memory usage: 528.6+ KB\n"
     ]
    }
   ],
   "source": [
    "wish.info()"
   ]
  },
  {
   "cell_type": "code",
   "execution_count": 10,
   "metadata": {},
   "outputs": [
    {
     "data": {
      "text/html": [
       "<div>\n",
       "<style scoped>\n",
       "    .dataframe tbody tr th:only-of-type {\n",
       "        vertical-align: middle;\n",
       "    }\n",
       "\n",
       "    .dataframe tbody tr th {\n",
       "        vertical-align: top;\n",
       "    }\n",
       "\n",
       "    .dataframe thead th {\n",
       "        text-align: right;\n",
       "    }\n",
       "</style>\n",
       "<table border=\"1\" class=\"dataframe\">\n",
       "  <thead>\n",
       "    <tr style=\"text-align: right;\">\n",
       "      <th></th>\n",
       "      <th>price</th>\n",
       "      <th>retail_price</th>\n",
       "      <th>units_sold</th>\n",
       "      <th>uses_ad_boosts</th>\n",
       "      <th>rating</th>\n",
       "      <th>rating_count</th>\n",
       "      <th>rating_five_count</th>\n",
       "      <th>rating_four_count</th>\n",
       "      <th>rating_three_count</th>\n",
       "      <th>rating_two_count</th>\n",
       "      <th>rating_one_count</th>\n",
       "      <th>badges_count</th>\n",
       "      <th>badge_local_product</th>\n",
       "      <th>badge_product_quality</th>\n",
       "      <th>badge_fast_shipping</th>\n",
       "      <th>product_variation_inventory</th>\n",
       "      <th>shipping_option_price</th>\n",
       "      <th>shipping_is_express</th>\n",
       "      <th>countries_shipped_to</th>\n",
       "      <th>inventory_total</th>\n",
       "      <th>has_urgency_banner</th>\n",
       "      <th>merchant_rating_count</th>\n",
       "      <th>merchant_rating</th>\n",
       "      <th>merchant_has_profile_picture</th>\n",
       "    </tr>\n",
       "  </thead>\n",
       "  <tbody>\n",
       "    <tr>\n",
       "      <th>count</th>\n",
       "      <td>1573.000000</td>\n",
       "      <td>1573.000000</td>\n",
       "      <td>1573.000000</td>\n",
       "      <td>1573.000000</td>\n",
       "      <td>1573.000000</td>\n",
       "      <td>1573.000000</td>\n",
       "      <td>1528.000000</td>\n",
       "      <td>1528.000000</td>\n",
       "      <td>1528.000000</td>\n",
       "      <td>1528.000000</td>\n",
       "      <td>1528.000000</td>\n",
       "      <td>1573.000000</td>\n",
       "      <td>1573.000000</td>\n",
       "      <td>1573.000000</td>\n",
       "      <td>1573.000000</td>\n",
       "      <td>1573.000000</td>\n",
       "      <td>1573.000000</td>\n",
       "      <td>1573.000000</td>\n",
       "      <td>1573.000000</td>\n",
       "      <td>1573.000000</td>\n",
       "      <td>473.0</td>\n",
       "      <td>1.573000e+03</td>\n",
       "      <td>1573.000000</td>\n",
       "      <td>1573.000000</td>\n",
       "    </tr>\n",
       "    <tr>\n",
       "      <th>mean</th>\n",
       "      <td>8.325372</td>\n",
       "      <td>23.288620</td>\n",
       "      <td>4339.005086</td>\n",
       "      <td>0.432931</td>\n",
       "      <td>3.820896</td>\n",
       "      <td>889.659250</td>\n",
       "      <td>442.263743</td>\n",
       "      <td>179.599476</td>\n",
       "      <td>134.549738</td>\n",
       "      <td>63.711387</td>\n",
       "      <td>95.735602</td>\n",
       "      <td>0.105531</td>\n",
       "      <td>0.018436</td>\n",
       "      <td>0.074380</td>\n",
       "      <td>0.012715</td>\n",
       "      <td>33.081373</td>\n",
       "      <td>2.345200</td>\n",
       "      <td>0.002543</td>\n",
       "      <td>40.456453</td>\n",
       "      <td>49.821360</td>\n",
       "      <td>1.0</td>\n",
       "      <td>2.649583e+04</td>\n",
       "      <td>4.032345</td>\n",
       "      <td>0.143675</td>\n",
       "    </tr>\n",
       "    <tr>\n",
       "      <th>std</th>\n",
       "      <td>3.932030</td>\n",
       "      <td>30.357863</td>\n",
       "      <td>9356.539302</td>\n",
       "      <td>0.495639</td>\n",
       "      <td>0.515374</td>\n",
       "      <td>1983.928834</td>\n",
       "      <td>980.203270</td>\n",
       "      <td>400.516231</td>\n",
       "      <td>311.690656</td>\n",
       "      <td>151.343933</td>\n",
       "      <td>214.075544</td>\n",
       "      <td>0.340709</td>\n",
       "      <td>0.134565</td>\n",
       "      <td>0.262472</td>\n",
       "      <td>0.112075</td>\n",
       "      <td>21.353137</td>\n",
       "      <td>1.024371</td>\n",
       "      <td>0.050379</td>\n",
       "      <td>20.301203</td>\n",
       "      <td>2.562799</td>\n",
       "      <td>0.0</td>\n",
       "      <td>7.847446e+04</td>\n",
       "      <td>0.204768</td>\n",
       "      <td>0.350871</td>\n",
       "    </tr>\n",
       "    <tr>\n",
       "      <th>min</th>\n",
       "      <td>1.000000</td>\n",
       "      <td>1.000000</td>\n",
       "      <td>1.000000</td>\n",
       "      <td>0.000000</td>\n",
       "      <td>1.000000</td>\n",
       "      <td>0.000000</td>\n",
       "      <td>0.000000</td>\n",
       "      <td>0.000000</td>\n",
       "      <td>0.000000</td>\n",
       "      <td>0.000000</td>\n",
       "      <td>0.000000</td>\n",
       "      <td>0.000000</td>\n",
       "      <td>0.000000</td>\n",
       "      <td>0.000000</td>\n",
       "      <td>0.000000</td>\n",
       "      <td>1.000000</td>\n",
       "      <td>1.000000</td>\n",
       "      <td>0.000000</td>\n",
       "      <td>6.000000</td>\n",
       "      <td>1.000000</td>\n",
       "      <td>1.0</td>\n",
       "      <td>0.000000e+00</td>\n",
       "      <td>2.333333</td>\n",
       "      <td>0.000000</td>\n",
       "    </tr>\n",
       "    <tr>\n",
       "      <th>25%</th>\n",
       "      <td>5.810000</td>\n",
       "      <td>7.000000</td>\n",
       "      <td>100.000000</td>\n",
       "      <td>0.000000</td>\n",
       "      <td>3.550000</td>\n",
       "      <td>24.000000</td>\n",
       "      <td>12.000000</td>\n",
       "      <td>5.000000</td>\n",
       "      <td>4.000000</td>\n",
       "      <td>2.000000</td>\n",
       "      <td>4.000000</td>\n",
       "      <td>0.000000</td>\n",
       "      <td>0.000000</td>\n",
       "      <td>0.000000</td>\n",
       "      <td>0.000000</td>\n",
       "      <td>6.000000</td>\n",
       "      <td>2.000000</td>\n",
       "      <td>0.000000</td>\n",
       "      <td>31.000000</td>\n",
       "      <td>50.000000</td>\n",
       "      <td>1.0</td>\n",
       "      <td>1.987000e+03</td>\n",
       "      <td>3.917353</td>\n",
       "      <td>0.000000</td>\n",
       "    </tr>\n",
       "    <tr>\n",
       "      <th>50%</th>\n",
       "      <td>8.000000</td>\n",
       "      <td>10.000000</td>\n",
       "      <td>1000.000000</td>\n",
       "      <td>0.000000</td>\n",
       "      <td>3.850000</td>\n",
       "      <td>150.000000</td>\n",
       "      <td>79.000000</td>\n",
       "      <td>31.500000</td>\n",
       "      <td>24.000000</td>\n",
       "      <td>11.000000</td>\n",
       "      <td>20.000000</td>\n",
       "      <td>0.000000</td>\n",
       "      <td>0.000000</td>\n",
       "      <td>0.000000</td>\n",
       "      <td>0.000000</td>\n",
       "      <td>50.000000</td>\n",
       "      <td>2.000000</td>\n",
       "      <td>0.000000</td>\n",
       "      <td>40.000000</td>\n",
       "      <td>50.000000</td>\n",
       "      <td>1.0</td>\n",
       "      <td>7.936000e+03</td>\n",
       "      <td>4.040650</td>\n",
       "      <td>0.000000</td>\n",
       "    </tr>\n",
       "    <tr>\n",
       "      <th>75%</th>\n",
       "      <td>11.000000</td>\n",
       "      <td>26.000000</td>\n",
       "      <td>5000.000000</td>\n",
       "      <td>1.000000</td>\n",
       "      <td>4.110000</td>\n",
       "      <td>855.000000</td>\n",
       "      <td>413.500000</td>\n",
       "      <td>168.250000</td>\n",
       "      <td>129.250000</td>\n",
       "      <td>62.000000</td>\n",
       "      <td>94.000000</td>\n",
       "      <td>0.000000</td>\n",
       "      <td>0.000000</td>\n",
       "      <td>0.000000</td>\n",
       "      <td>0.000000</td>\n",
       "      <td>50.000000</td>\n",
       "      <td>3.000000</td>\n",
       "      <td>0.000000</td>\n",
       "      <td>43.000000</td>\n",
       "      <td>50.000000</td>\n",
       "      <td>1.0</td>\n",
       "      <td>2.456400e+04</td>\n",
       "      <td>4.161797</td>\n",
       "      <td>0.000000</td>\n",
       "    </tr>\n",
       "    <tr>\n",
       "      <th>max</th>\n",
       "      <td>49.000000</td>\n",
       "      <td>252.000000</td>\n",
       "      <td>100000.000000</td>\n",
       "      <td>1.000000</td>\n",
       "      <td>5.000000</td>\n",
       "      <td>20744.000000</td>\n",
       "      <td>11548.000000</td>\n",
       "      <td>4152.000000</td>\n",
       "      <td>3658.000000</td>\n",
       "      <td>2003.000000</td>\n",
       "      <td>2789.000000</td>\n",
       "      <td>3.000000</td>\n",
       "      <td>1.000000</td>\n",
       "      <td>1.000000</td>\n",
       "      <td>1.000000</td>\n",
       "      <td>50.000000</td>\n",
       "      <td>12.000000</td>\n",
       "      <td>1.000000</td>\n",
       "      <td>140.000000</td>\n",
       "      <td>50.000000</td>\n",
       "      <td>1.0</td>\n",
       "      <td>2.174765e+06</td>\n",
       "      <td>5.000000</td>\n",
       "      <td>1.000000</td>\n",
       "    </tr>\n",
       "  </tbody>\n",
       "</table>\n",
       "</div>"
      ],
      "text/plain": [
       "             price  retail_price     units_sold  uses_ad_boosts       rating  \\\n",
       "count  1573.000000   1573.000000    1573.000000     1573.000000  1573.000000   \n",
       "mean      8.325372     23.288620    4339.005086        0.432931     3.820896   \n",
       "std       3.932030     30.357863    9356.539302        0.495639     0.515374   \n",
       "min       1.000000      1.000000       1.000000        0.000000     1.000000   \n",
       "25%       5.810000      7.000000     100.000000        0.000000     3.550000   \n",
       "50%       8.000000     10.000000    1000.000000        0.000000     3.850000   \n",
       "75%      11.000000     26.000000    5000.000000        1.000000     4.110000   \n",
       "max      49.000000    252.000000  100000.000000        1.000000     5.000000   \n",
       "\n",
       "       rating_count  rating_five_count  rating_four_count  rating_three_count  \\\n",
       "count   1573.000000        1528.000000        1528.000000         1528.000000   \n",
       "mean     889.659250         442.263743         179.599476          134.549738   \n",
       "std     1983.928834         980.203270         400.516231          311.690656   \n",
       "min        0.000000           0.000000           0.000000            0.000000   \n",
       "25%       24.000000          12.000000           5.000000            4.000000   \n",
       "50%      150.000000          79.000000          31.500000           24.000000   \n",
       "75%      855.000000         413.500000         168.250000          129.250000   \n",
       "max    20744.000000       11548.000000        4152.000000         3658.000000   \n",
       "\n",
       "       rating_two_count  rating_one_count  badges_count  badge_local_product  \\\n",
       "count       1528.000000       1528.000000   1573.000000          1573.000000   \n",
       "mean          63.711387         95.735602      0.105531             0.018436   \n",
       "std          151.343933        214.075544      0.340709             0.134565   \n",
       "min            0.000000          0.000000      0.000000             0.000000   \n",
       "25%            2.000000          4.000000      0.000000             0.000000   \n",
       "50%           11.000000         20.000000      0.000000             0.000000   \n",
       "75%           62.000000         94.000000      0.000000             0.000000   \n",
       "max         2003.000000       2789.000000      3.000000             1.000000   \n",
       "\n",
       "       badge_product_quality  badge_fast_shipping  \\\n",
       "count            1573.000000          1573.000000   \n",
       "mean                0.074380             0.012715   \n",
       "std                 0.262472             0.112075   \n",
       "min                 0.000000             0.000000   \n",
       "25%                 0.000000             0.000000   \n",
       "50%                 0.000000             0.000000   \n",
       "75%                 0.000000             0.000000   \n",
       "max                 1.000000             1.000000   \n",
       "\n",
       "       product_variation_inventory  shipping_option_price  \\\n",
       "count                  1573.000000            1573.000000   \n",
       "mean                     33.081373               2.345200   \n",
       "std                      21.353137               1.024371   \n",
       "min                       1.000000               1.000000   \n",
       "25%                       6.000000               2.000000   \n",
       "50%                      50.000000               2.000000   \n",
       "75%                      50.000000               3.000000   \n",
       "max                      50.000000              12.000000   \n",
       "\n",
       "       shipping_is_express  countries_shipped_to  inventory_total  \\\n",
       "count          1573.000000           1573.000000      1573.000000   \n",
       "mean              0.002543             40.456453        49.821360   \n",
       "std               0.050379             20.301203         2.562799   \n",
       "min               0.000000              6.000000         1.000000   \n",
       "25%               0.000000             31.000000        50.000000   \n",
       "50%               0.000000             40.000000        50.000000   \n",
       "75%               0.000000             43.000000        50.000000   \n",
       "max               1.000000            140.000000        50.000000   \n",
       "\n",
       "       has_urgency_banner  merchant_rating_count  merchant_rating  \\\n",
       "count               473.0           1.573000e+03      1573.000000   \n",
       "mean                  1.0           2.649583e+04         4.032345   \n",
       "std                   0.0           7.847446e+04         0.204768   \n",
       "min                   1.0           0.000000e+00         2.333333   \n",
       "25%                   1.0           1.987000e+03         3.917353   \n",
       "50%                   1.0           7.936000e+03         4.040650   \n",
       "75%                   1.0           2.456400e+04         4.161797   \n",
       "max                   1.0           2.174765e+06         5.000000   \n",
       "\n",
       "       merchant_has_profile_picture  \n",
       "count                   1573.000000  \n",
       "mean                       0.143675  \n",
       "std                        0.350871  \n",
       "min                        0.000000  \n",
       "25%                        0.000000  \n",
       "50%                        0.000000  \n",
       "75%                        0.000000  \n",
       "max                        1.000000  "
      ]
     },
     "execution_count": 10,
     "metadata": {},
     "output_type": "execute_result"
    }
   ],
   "source": [
    "wish.describe()"
   ]
  },
  {
   "cell_type": "code",
   "execution_count": 11,
   "metadata": {},
   "outputs": [
    {
     "data": {
      "text/plain": [
       "merchant_profile_picture        1347\n",
       "has_urgency_banner              1100\n",
       "urgency_text                    1100\n",
       "rating_one_count                  45\n",
       "rating_two_count                  45\n",
       "rating_three_count                45\n",
       "rating_four_count                 45\n",
       "rating_five_count                 45\n",
       "product_color                     41\n",
       "origin_country                    17\n",
       "product_variation_size_id         14\n",
       "merchant_name                      4\n",
       "merchant_info_subtitle             1\n",
       "crawl_month                        0\n",
       "badges_count                       0\n",
       "rating_count                       0\n",
       "badge_product_quality              0\n",
       "rating                             0\n",
       "uses_ad_boosts                     0\n",
       "units_sold                         0\n",
       "currency_buyer                     0\n",
       "retail_price                       0\n",
       "price                              0\n",
       "title_orig                         0\n",
       "badge_local_product                0\n",
       "product_variation_inventory        0\n",
       "badge_fast_shipping                0\n",
       "merchant_rating_count              0\n",
       "product_id                         0\n",
       "product_picture                    0\n",
       "product_url                        0\n",
       "merchant_has_profile_picture       0\n",
       "merchant_id                        0\n",
       "merchant_rating                    0\n",
       "merchant_title                     0\n",
       "tags                               0\n",
       "inventory_total                    0\n",
       "countries_shipped_to               0\n",
       "shipping_is_express                0\n",
       "shipping_option_price              0\n",
       "shipping_option_name               0\n",
       "theme                              0\n",
       "title                              0\n",
       "dtype: int64"
      ]
     },
     "execution_count": 11,
     "metadata": {},
     "output_type": "execute_result"
    }
   ],
   "source": [
    "# lets check if there are any nulls in these columns. Sorted descending style.\n",
    "wish.isnull().sum().sort_values(ascending=False)"
   ]
  },
  {
   "cell_type": "markdown",
   "metadata": {},
   "source": [
    "*I have null values in my merchant_profile_picture (1347), has_urgency_banner (1100), urgency_text (1100), rating_one_count (45), rating_two_count (45), rating_three_count (45), rating_four_count (45), rating_five_count (45), product_color (41), origin_country (17), product_variation_size_id (14), merchant_name (4) and merchant_info_subtitle (1) columns.*\n"
   ]
  },
  {
   "cell_type": "markdown",
   "metadata": {},
   "source": [
    "## The wish dataframe is the main dataset. There are 1573 different products and 43 unique columns. \n",
    "\n",
    "#### Here is a summary breakdown for each column:\n",
    "\n",
    "**'title'** = Title for localized for european countries. May be the same as title_orig if the seller did not offer a translation. {object}\n",
    "\n",
    "**'title_orig'** = Original english title of the product. {object}\n",
    "\n",
    "**'price'** = price you would pay to buy the product. {float64}\n",
    "\n",
    "**'retail_price'** = reference price for similar articles on the market, or in other stores/places. Used by the seller to indicate a regular value or. {float64}\n",
    "\n",
    "*'currency_buyer' = currency of the prices. 1 unique value. {object} {delete}*\n",
    "\n",
    "**'units_sold'** = Number of units sold. Lower bound approximation by steps. On the Wish website, the units solds is shown as a string '20,000 +'. {int64}\n",
    "\n",
    "**'uses_ad_boosts'** = Whether the seller paid to boost his product within the platform (highlighting, better placement or whatever).A boolen column with '1' meaning seller used Wish's paid 'Product Boost' service and '0' meaning that they did. Product Boost is the native advertising platform of the Wish Marketplace. Wish statement : \" You can run targeted campaigns on your products from Wish, to maximize your conversions and generate higher revenue. As Wish understands its buyers, its native ad system suggests items to customers based on their previous purchases, so the conversion rate is always higher.\" {int64}\n",
    "\n",
    "**'rating'** = Mean product rating. {float64}\n",
    "\n",
    "**'rating_count'** = Total number of ratings of the product. {int64}\n",
    "\n",
    "**'rating_five_count'** = The total amount of five star ratings the product recived. {float64}\n",
    "\n",
    "**'rating_four_count'** = The total amount of four four ratings the product recived. {float64}\n",
    "\n",
    "**'rating_three_count'** = The total amount of three star ratings the product recived. {float64}\n",
    "\n",
    "**'rating_two_count'** = The total amount of two star ratings the product recived. {float64}\n",
    "\n",
    "**'rating_one_count'** = The total amount of two star ratings the product recived. {float64}\n",
    "\n",
    "**'badges_count'** = Number of badges the product or the seller have. {int64}\n",
    "\n",
    "**'badge_local_product'** = A badge that denotes the product is a local product. Conditions may vary (being produced locally, or something else). \n",
    "\n",
    "**'badge_product_quality'** = Badge awarded when many buyers consistently gave good evaluations 1 means Yes, has the badge.\n",
    "\n",
    "**'badge_fast_shipping'** = Badge awarded when this product's order is consistently shipped rapidly\n",
    "\n",
    "**'tags'**= tags set by the seller. \n",
    "\n",
    "**'product_color'** = Product's main color.\n",
    "\n",
    "**'product_variation_size_id'** = One of the available size variation for this product.\n",
    "\n",
    "*'product_variation_inventory' = Inventory the seller has. Max allowed quantity is 50.*\n",
    "\n",
    "*'shipping_option_name' = french shipping quality option*\n",
    "\n",
    "*'shipping_option_price' = shipping price*\n",
    "\n",
    "*'shipping_is_express' = whether the shipping is express or not. 1 for True*\n",
    "\n",
    "**'countries_shipped_to'** = Number of countries this product is shipped to. Sellers may choose to limit where they ship a product to\n",
    "\n",
    "*'inventory_total' = Total inventory for all the product's variations (size/color variations for instance)*\n",
    "\n",
    "**'has_urgency_banner'** = whether there was an urgency banner with an urgency\n",
    "\n",
    "**'urgency_text'** = A text banner that appear over some products in the search results.\n",
    "\n",
    "**'origin_country'** = country where the products are coming from\n",
    "\n",
    "**'merchant_title'** = Merchant's displayed name (show in the UI as the seller's shop name)\n",
    "\n",
    "*'merchant_name' = Merchant's canonical name. A name not shown publicly. Used by the website under the hood as a canonical name.*\n",
    "\n",
    "**'merchant_info_subtitle'** = The subtitle text as shown on a seller's info section to the user. (raw, not preprocessed). The website shows this to the user.\n",
    "\n",
    "**'merchant_rating_count'** = Number of ratings of this seller\n",
    "\n",
    "**'merchant_rating'** = merchant's rating\n",
    "\n",
    "*'merchant_id' = merchant unique id*\n",
    "\n",
    "**'merchant_has_profile_picture'** = Convenience boolean that says whether there is a `merchant_profile_picture` url.\n",
    "\n",
    "*'product_url' = url to the product page. You may need to login to access it*\n",
    "\n",
    "**'product_picture'** = actual picture of the product\n",
    "\n",
    "**'product_id'** = product identifier. You can use this key to remove duplicate entries if you're not interested in studying them.\n",
    "\n",
    "*'theme' = the search term used in the search bar of the website to get these search results.*\n",
    "\n",
    "*'crawl_month' = meta: for info only.*"
   ]
  },
  {
   "cell_type": "markdown",
   "metadata": {},
   "source": [
    "## Here is a code to create a quick statistical summery of each dataset. The html page summary reports are included in repo."
   ]
  },
  {
   "cell_type": "code",
   "execution_count": 12,
   "metadata": {},
   "outputs": [],
   "source": [
    "# report = pandas_profiling.ProfileReport(wish)\n",
    "# report.to_file(\"wish_report.html\")\n",
    "# report_cat = pandas_profiling.ProfileReport(cat)\n",
    "# report_cat.to_file(\"cat_report.html\")"
   ]
  },
  {
   "cell_type": "markdown",
   "metadata": {},
   "source": [
    "# Title and Title_Orig \n",
    "### Title for localized for european countries. May be the same as title_orig if the seller did not offer a translation. {object}"
   ]
  },
  {
   "cell_type": "code",
   "execution_count": 106,
   "metadata": {},
   "outputs": [
    {
     "data": {
      "text/plain": [
       "0    2020 Summer Vintage Flamingo Print  Pajamas Se...\n",
       "1    SSHOUSE Summer Casual Sleeveless Soirée Party ...\n",
       "2    2020 Nouvelle Arrivée Femmes Printemps et Été ...\n",
       "3    Hot Summer Cool T-shirt pour les femmes Mode T...\n",
       "4    Femmes Shorts d'été à lacets taille élastique ...\n",
       "Name: title, dtype: object"
      ]
     },
     "execution_count": 106,
     "metadata": {},
     "output_type": "execute_result"
    }
   ],
   "source": [
    "wish['title'].head(5)"
   ]
  },
  {
   "cell_type": "code",
   "execution_count": 107,
   "metadata": {},
   "outputs": [
    {
     "data": {
      "text/plain": [
       "0    2020 Summer Vintage Flamingo Print  Pajamas Se...\n",
       "1     Women's Casual Summer Sleeveless Sexy Mini Dress\n",
       "2    2020 New Arrival Women Spring and Summer Beach...\n",
       "3    Hot Summer Cool T Shirt for Women Fashion Tops...\n",
       "4    Women Summer Shorts Lace Up Elastic Waistband ...\n",
       "Name: title_orig, dtype: object"
      ]
     },
     "execution_count": 107,
     "metadata": {},
     "output_type": "execute_result"
    }
   ],
   "source": [
    "wish['title_orig'].head(5)"
   ]
  },
  {
   "cell_type": "markdown",
   "metadata": {},
   "source": [
    "# Price \n",
    "### Price you would pay to buy the product. {float64}"
   ]
  },
  {
   "cell_type": "markdown",
   "metadata": {},
   "source": [
    "*The price column doesn't have any nulls to drop. It also seems to be labeled correctly. Advance to visualization.*"
   ]
  },
  {
   "cell_type": "code",
   "execution_count": 13,
   "metadata": {},
   "outputs": [
    {
     "data": {
      "text/plain": [
       "count    1573.000000\n",
       "mean        8.325372\n",
       "std         3.932030\n",
       "min         1.000000\n",
       "25%         5.810000\n",
       "50%         8.000000\n",
       "75%        11.000000\n",
       "max        49.000000\n",
       "Name: price, dtype: float64"
      ]
     },
     "execution_count": 13,
     "metadata": {},
     "output_type": "execute_result"
    }
   ],
   "source": [
    "wish['price'].describe()"
   ]
  },
  {
   "cell_type": "code",
   "execution_count": 14,
   "metadata": {},
   "outputs": [
    {
     "data": {
      "text/plain": [
       "<matplotlib.legend.Legend at 0x1e2a0a99a08>"
      ]
     },
     "execution_count": 14,
     "metadata": {},
     "output_type": "execute_result"
    },
    {
     "data": {
      "image/png": "[encoded data removed]",
      "text/plain": [
       "<Figure size 720x432 with 1 Axes>"
      ]
     },
     "metadata": {},
     "output_type": "display_data"
    }
   ],
   "source": [
    "# Visualization of price\n",
    "sns.set(rc={'figure.figsize': (10, 6)})\n",
    "\n",
    "mean=wish['price'].mean()\n",
    "median=wish['price'].median()\n",
    "\n",
    "sns.distplot(wish.price,bins=50)\n",
    "plt.axvline(mean,0, 1, color = 'red', label='mean', alpha = 0.6)\n",
    "plt.axvline(median,0, 1, color = 'black', label='median', alpha = 0.6)\n",
    "\n",
    "plt.legend()"
   ]
  },
  {
   "cell_type": "code",
   "execution_count": 15,
   "metadata": {},
   "outputs": [
    {
     "name": "stdout",
     "output_type": "stream",
     "text": [
      "8.0\n",
      "8.325371900826434\n"
     ]
    },
    {
     "data": {
      "image/png": "[encoded data removed]",
      "text/plain": [
       "<Figure size 720x432 with 1 Axes>"
      ]
     },
     "metadata": {},
     "output_type": "display_data"
    }
   ],
   "source": [
    "sns.set_context('poster')\n",
    "\n",
    "x = wish['price'].values\n",
    "\n",
    "# 3. add boxplot \n",
    "sns.boxplot(x, showmeans = True)\n",
    "\n",
    "# The line in the middle signifies the median\n",
    "# Check your median value with python \n",
    "print(wish['price'].median())\n",
    "# Check your median value with python\n",
    "print(wish['price'].mean())"
   ]
  },
  {
   "cell_type": "code",
   "execution_count": 16,
   "metadata": {},
   "outputs": [
    {
     "data": {
      "text/plain": [
       "[Text(0.5, 0, '')]"
      ]
     },
     "execution_count": 16,
     "metadata": {},
     "output_type": "execute_result"
    },
    {
     "data": {
      "image/png": "[encoded data removed]",
      "text/plain": [
       "<Figure size 720x432 with 2 Axes>"
      ]
     },
     "metadata": {},
     "output_type": "display_data"
    }
   ],
   "source": [
    "# Cut the window in 2 parts\n",
    "sns.set(rc={'figure.figsize': (10, 6)})\n",
    "\n",
    "f, (ax_box, ax_hist) = plt.subplots(2, sharex=True, gridspec_kw={\"height_ratios\": (.15, .85)})\n",
    " \n",
    "# Add a graph in each part\n",
    "sns.boxplot(wish[\"price\"], ax=ax_box)\n",
    "sns.distplot(wish[\"price\"], ax=ax_hist)\n",
    " \n",
    "# Remove x axis name for the boxplot\n",
    "ax_box.set(xlabel='')"
   ]
  },
  {
   "cell_type": "markdown",
   "metadata": {},
   "source": [
    "The median value of the prices is 8 euros and the mean is 8.33 euros. The price data seems to be normally distributed. There are a couple of outliers. The outliers seem to be located between 19 to 50 euros. "
   ]
  },
  {
   "cell_type": "markdown",
   "metadata": {},
   "source": [
    "# Retail Price \n",
    "### Reference price for similar articles on the market, or in other stores/places. Used by the seller to indicate a regular value or. {float64}"
   ]
  },
  {
   "cell_type": "markdown",
   "metadata": {},
   "source": [
    "*The price column doesn't have any nulls to drop. It also seems to be labeled correctly. Advance to visualization.*"
   ]
  },
  {
   "cell_type": "code",
   "execution_count": 17,
   "metadata": {},
   "outputs": [
    {
     "data": {
      "text/plain": [
       "count    1573.000000\n",
       "mean       23.288620\n",
       "std        30.357863\n",
       "min         1.000000\n",
       "25%         7.000000\n",
       "50%        10.000000\n",
       "75%        26.000000\n",
       "max       252.000000\n",
       "Name: retail_price, dtype: float64"
      ]
     },
     "execution_count": 17,
     "metadata": {},
     "output_type": "execute_result"
    }
   ],
   "source": [
    "wish['retail_price'].describe()"
   ]
  },
  {
   "cell_type": "code",
   "execution_count": 18,
   "metadata": {},
   "outputs": [
    {
     "data": {
      "text/plain": [
       "<matplotlib.legend.Legend at 0x1e2a0ef01c8>"
      ]
     },
     "execution_count": 18,
     "metadata": {},
     "output_type": "execute_result"
    },
    {
     "data": {
      "image/png": "[encoded data removed]",
      "text/plain": [
       "<Figure size 720x432 with 1 Axes>"
      ]
     },
     "metadata": {},
     "output_type": "display_data"
    }
   ],
   "source": [
    "sns.set(rc={'figure.figsize': (10, 6)})\n",
    "\n",
    "mean=wish['retail_price'].mean()\n",
    "median=wish['retail_price'].median()\n",
    "\n",
    "sns.distplot(wish.retail_price,bins=50)\n",
    "plt.axvline(mean,0, 1, color = 'red', label='mean', alpha=0.6)\n",
    "plt.axvline(median,0, 1, color = 'black', label='median', alpha=0.6)\n",
    "\n",
    "plt.legend()"
   ]
  },
  {
   "cell_type": "code",
   "execution_count": 19,
   "metadata": {},
   "outputs": [
    {
     "name": "stdout",
     "output_type": "stream",
     "text": [
      "10.0\n",
      "23.28862047043865\n"
     ]
    },
    {
     "data": {
      "image/png": "[encoded data removed]",
      "text/plain": [
       "<Figure size 720x432 with 1 Axes>"
      ]
     },
     "metadata": {},
     "output_type": "display_data"
    }
   ],
   "source": [
    "sns.set_context('poster')\n",
    "\n",
    "x = wish['retail_price'].values\n",
    "\n",
    "# 3. add boxplot \n",
    "sns.boxplot(x, showmeans = True)\n",
    "\n",
    "# The line in the middle signifies the median\n",
    "# Check your median value with python \n",
    "print(wish['retail_price'].median())\n",
    "# Check your median value with python\n",
    "print(wish['retail_price'].mean())"
   ]
  },
  {
   "cell_type": "code",
   "execution_count": 20,
   "metadata": {},
   "outputs": [
    {
     "data": {
      "text/plain": [
       "[Text(0.5, 0, '')]"
      ]
     },
     "execution_count": 20,
     "metadata": {},
     "output_type": "execute_result"
    },
    {
     "data": {
      "image/png": "[encoded data removed]",
      "text/plain": [
       "<Figure size 720x432 with 2 Axes>"
      ]
     },
     "metadata": {},
     "output_type": "display_data"
    }
   ],
   "source": [
    "# Cut the window in 2 parts\n",
    "sns.set(rc={'figure.figsize': (10, 6)})\n",
    "\n",
    "f, (ax_box, ax_hist) = plt.subplots(2, sharex=True, gridspec_kw={\"height_ratios\": (.15, .85)})\n",
    " \n",
    "# Add a graph in each part\n",
    "sns.boxplot(wish[\"retail_price\"], ax=ax_box)\n",
    "sns.distplot(wish[\"retail_price\"], ax=ax_hist)\n",
    " \n",
    "# Remove x axis name for the boxplot\n",
    "ax_box.set(xlabel='')"
   ]
  },
  {
   "cell_type": "markdown",
   "metadata": {},
   "source": [
    "# Currency Buyer\n",
    "### The currency of the prices. 1 unique value. {object} {delete}*"
   ]
  },
  {
   "cell_type": "code",
   "execution_count": 21,
   "metadata": {},
   "outputs": [
    {
     "data": {
      "text/plain": [
       "EUR    1573\n",
       "Name: currency_buyer, dtype: int64"
      ]
     },
     "execution_count": 21,
     "metadata": {},
     "output_type": "execute_result"
    }
   ],
   "source": [
    "# checking the type of currency used. its all in euros. flagged for deletion.\n",
    "wish['currency_buyer'].value_counts()"
   ]
  },
  {
   "cell_type": "code",
   "execution_count": 22,
   "metadata": {},
   "outputs": [],
   "source": [
    "del wish['currency_buyer']"
   ]
  },
  {
   "cell_type": "code",
   "execution_count": 23,
   "metadata": {},
   "outputs": [
    {
     "data": {
      "text/plain": [
       "Index(['title', 'title_orig', 'price', 'retail_price', 'units_sold',\n",
       "       'uses_ad_boosts', 'rating', 'rating_count', 'rating_five_count',\n",
       "       'rating_four_count', 'rating_three_count', 'rating_two_count',\n",
       "       'rating_one_count', 'badges_count', 'badge_local_product',\n",
       "       'badge_product_quality', 'badge_fast_shipping', 'tags', 'product_color',\n",
       "       'product_variation_size_id', 'product_variation_inventory',\n",
       "       'shipping_option_name', 'shipping_option_price', 'shipping_is_express',\n",
       "       'countries_shipped_to', 'inventory_total', 'has_urgency_banner',\n",
       "       'urgency_text', 'origin_country', 'merchant_title', 'merchant_name',\n",
       "       'merchant_info_subtitle', 'merchant_rating_count', 'merchant_rating',\n",
       "       'merchant_id', 'merchant_has_profile_picture',\n",
       "       'merchant_profile_picture', 'product_url', 'product_picture',\n",
       "       'product_id', 'theme', 'crawl_month'],\n",
       "      dtype='object')"
      ]
     },
     "execution_count": 23,
     "metadata": {},
     "output_type": "execute_result"
    }
   ],
   "source": [
    "wish.columns"
   ]
  },
  {
   "cell_type": "markdown",
   "metadata": {},
   "source": [
    "# Units Sold\n",
    "Number of units sold. Lower bound approximation by steps. On the Wish website, the units solds is shown as a string '20,000 +'. {int64}"
   ]
  },
  {
   "cell_type": "code",
   "execution_count": 24,
   "metadata": {},
   "outputs": [
    {
     "data": {
      "text/plain": [
       "count      1573.000000\n",
       "mean       4339.005086\n",
       "std        9356.539302\n",
       "min           1.000000\n",
       "25%         100.000000\n",
       "50%        1000.000000\n",
       "75%        5000.000000\n",
       "max      100000.000000\n",
       "Name: units_sold, dtype: float64"
      ]
     },
     "execution_count": 24,
     "metadata": {},
     "output_type": "execute_result"
    }
   ],
   "source": [
    "wish['units_sold'].describe()"
   ]
  },
  {
   "cell_type": "code",
   "execution_count": 25,
   "metadata": {},
   "outputs": [
    {
     "data": {
      "text/plain": [
       "100       509\n",
       "1000      405\n",
       "5000      217\n",
       "10000     177\n",
       "20000     103\n",
       "50         76\n",
       "10         49\n",
       "50000      17\n",
       "100000      6\n",
       "8           4\n",
       "1           3\n",
       "7           2\n",
       "3           2\n",
       "2           2\n",
       "6           1\n",
       "Name: units_sold, dtype: int64"
      ]
     },
     "execution_count": 25,
     "metadata": {},
     "output_type": "execute_result"
    }
   ],
   "source": [
    "# Units sold is a little weird. The units sold is shown on the website like \"100+ units sold\". Probably group everyting below ten together.\n",
    "wish['units_sold'].value_counts()"
   ]
  },
  {
   "cell_type": "code",
   "execution_count": 26,
   "metadata": {},
   "outputs": [],
   "source": [
    "# Function to aggregate the amount sold < 10\n",
    "def agg_sold(item):\n",
    "    if item < 10:\n",
    "        return 10\n",
    "    else:\n",
    "        return item"
   ]
  },
  {
   "cell_type": "code",
   "execution_count": 27,
   "metadata": {},
   "outputs": [
    {
     "data": {
      "text/plain": [
       "100       509\n",
       "1000      405\n",
       "5000      217\n",
       "10000     177\n",
       "20000     103\n",
       "50         76\n",
       "10         63\n",
       "50000      17\n",
       "100000      6\n",
       "Name: units_sold, dtype: int64"
      ]
     },
     "execution_count": 27,
     "metadata": {},
     "output_type": "execute_result"
    }
   ],
   "source": [
    "#applying function\n",
    "wish['units_sold'] = wish['units_sold'].apply(agg_sold)\n",
    "\n",
    "wish['units_sold'].value_counts()"
   ]
  },
  {
   "cell_type": "code",
   "execution_count": 28,
   "metadata": {},
   "outputs": [
    {
     "data": {
      "image/png": "[encoded data removed]",
      "text/plain": [
       "<Figure size 720x432 with 1 Axes>"
      ]
     },
     "metadata": {},
     "output_type": "display_data"
    }
   ],
   "source": [
    "ax = sns.countplot(x=\"units_sold\", data=wish)"
   ]
  },
  {
   "cell_type": "markdown",
   "metadata": {},
   "source": [
    "# Uses Ad Boosts\n",
    "Whether the seller paid to boost his product within the platform (highlighting, better placement or whatever).A boolen column with '1' meaning seller used Wish's paid 'Product Boost' service and '0' meaning that they did. Product Boost is the native advertising platform of the Wish Marketplace. Wish statement : \" You can run targeted campaigns on your products from Wish, to maximize your conversions and generate higher revenue. As Wish understands its buyers, its native ad system suggests items to customers based on their previous purchases, so the conversion rate is always higher.\" {int64}"
   ]
  },
  {
   "cell_type": "code",
   "execution_count": 29,
   "metadata": {},
   "outputs": [
    {
     "data": {
      "text/plain": [
       "0    892\n",
       "1    681\n",
       "Name: uses_ad_boosts, dtype: int64"
      ]
     },
     "execution_count": 29,
     "metadata": {},
     "output_type": "execute_result"
    }
   ],
   "source": [
    "# whether or not the product uses ad product boosts. '1' for yes and '0' for no.\n",
    "wish['uses_ad_boosts'].value_counts()"
   ]
  },
  {
   "cell_type": "code",
   "execution_count": 30,
   "metadata": {},
   "outputs": [
    {
     "data": {
      "image/png": "[encoded data removed]",
      "text/plain": [
       "<Figure size 720x432 with 1 Axes>"
      ]
     },
     "metadata": {},
     "output_type": "display_data"
    }
   ],
   "source": [
    "# Lets visualize the records relating to ad boosts.\n",
    "ax = sns.countplot(x=\"uses_ad_boosts\", data=wish)"
   ]
  },
  {
   "cell_type": "markdown",
   "metadata": {},
   "source": [
    "# Rating\n",
    "Mean product rating. {float64}"
   ]
  },
  {
   "cell_type": "code",
   "execution_count": 108,
   "metadata": {},
   "outputs": [
    {
     "data": {
      "text/plain": [
       "count    1573.000000\n",
       "mean        3.820896\n",
       "std         0.515374\n",
       "min         1.000000\n",
       "25%         3.550000\n",
       "50%         3.850000\n",
       "75%         4.110000\n",
       "max         5.000000\n",
       "Name: rating, dtype: float64"
      ]
     },
     "execution_count": 108,
     "metadata": {},
     "output_type": "execute_result"
    }
   ],
   "source": [
    "wish['rating'].describe()"
   ]
  },
  {
   "cell_type": "code",
   "execution_count": 32,
   "metadata": {},
   "outputs": [
    {
     "data": {
      "text/plain": [
       "<matplotlib.legend.Legend at 0x1e2a2466bc8>"
      ]
     },
     "execution_count": 32,
     "metadata": {},
     "output_type": "execute_result"
    },
    {
     "data": {
      "image/png": "[encoded data removed]",
      "text/plain": [
       "<Figure size 720x432 with 1 Axes>"
      ]
     },
     "metadata": {},
     "output_type": "display_data"
    }
   ],
   "source": [
    "sns.set(rc={'figure.figsize': (10, 6)})\n",
    "\n",
    "mean=wish['rating'].mean()\n",
    "median=wish['rating'].median()\n",
    "\n",
    "sns.distplot(wish.rating)\n",
    "plt.axvline(mean,0, 1, color = 'red', label='mean',alpha = 0.6)\n",
    "plt.axvline(median,0, 1, color = 'black', label='median',alpha = 0.6)\n",
    "\n",
    "plt.legend()"
   ]
  },
  {
   "cell_type": "code",
   "execution_count": 33,
   "metadata": {},
   "outputs": [
    {
     "name": "stdout",
     "output_type": "stream",
     "text": [
      "3.85\n",
      "3.8208963763509174\n"
     ]
    },
    {
     "data": {
      "image/png": "[encoded data removed]",
      "text/plain": [
       "<Figure size 720x432 with 1 Axes>"
      ]
     },
     "metadata": {},
     "output_type": "display_data"
    }
   ],
   "source": [
    "sns.set_context('poster')\n",
    "\n",
    "x = wish['rating'].values\n",
    "\n",
    "# 3. add boxplot \n",
    "sns.boxplot(x, showmeans = True)\n",
    "\n",
    "# The line in the middle signifies the median\n",
    "# Check your median value with python \n",
    "print(wish['rating'].median())\n",
    "# Check your median value with python\n",
    "print(wish['rating'].mean())"
   ]
  },
  {
   "cell_type": "code",
   "execution_count": 34,
   "metadata": {},
   "outputs": [
    {
     "data": {
      "text/plain": [
       "[Text(0.5, 0, '')]"
      ]
     },
     "execution_count": 34,
     "metadata": {},
     "output_type": "execute_result"
    },
    {
     "data": {
      "image/png": "[encoded data removed]",
      "text/plain": [
       "<Figure size 720x432 with 2 Axes>"
      ]
     },
     "metadata": {},
     "output_type": "display_data"
    }
   ],
   "source": [
    "# Cut the window in 2 parts\n",
    "sns.set(rc={'figure.figsize': (10, 6)})\n",
    "f, (ax_box, ax_hist) = plt.subplots(2, sharex=True, gridspec_kw={\"height_ratios\": (.15, .85)})\n",
    " \n",
    "# Add a graph in each part\n",
    "sns.boxplot(wish[\"rating\"], ax=ax_box)\n",
    "sns.distplot(wish[\"rating\"], ax=ax_hist)\n",
    " \n",
    "# Remove x axis name for the boxplot\n",
    "ax_box.set(xlabel='')"
   ]
  },
  {
   "cell_type": "markdown",
   "metadata": {},
   "source": [
    "# Rating Count\n",
    "Total number of ratings of the product. {int64}"
   ]
  },
  {
   "cell_type": "code",
   "execution_count": 35,
   "metadata": {},
   "outputs": [
    {
     "data": {
      "text/plain": [
       "count     1573.000000\n",
       "mean       889.659250\n",
       "std       1983.928834\n",
       "min          0.000000\n",
       "25%         24.000000\n",
       "50%        150.000000\n",
       "75%        855.000000\n",
       "max      20744.000000\n",
       "Name: rating_count, dtype: float64"
      ]
     },
     "execution_count": 35,
     "metadata": {},
     "output_type": "execute_result"
    }
   ],
   "source": [
    "wish['rating_count'].describe()"
   ]
  },
  {
   "cell_type": "code",
   "execution_count": 36,
   "metadata": {},
   "outputs": [
    {
     "data": {
      "text/plain": [
       "<matplotlib.legend.Legend at 0x1e2a2ddee88>"
      ]
     },
     "execution_count": 36,
     "metadata": {},
     "output_type": "execute_result"
    },
    {
     "data": {
      "image/png": "[encoded data removed]",
      "text/plain": [
       "<Figure size 720x432 with 1 Axes>"
      ]
     },
     "metadata": {},
     "output_type": "display_data"
    }
   ],
   "source": [
    "sns.set(rc={'figure.figsize': (10, 6)})\n",
    "\n",
    "mean=wish['rating_count'].mean()\n",
    "median=wish['rating_count'].median()\n",
    "\n",
    "sns.distplot(wish.rating_count)\n",
    "plt.axvline(mean,0, 1, color = 'red', label='mean',alpha = 0.6)\n",
    "plt.axvline(median,0, 1, color = 'black', label='median',alpha = 0.6)\n",
    "\n",
    "plt.legend()"
   ]
  },
  {
   "cell_type": "code",
   "execution_count": 37,
   "metadata": {},
   "outputs": [
    {
     "name": "stdout",
     "output_type": "stream",
     "text": [
      "150.0\n",
      "889.659249841068\n"
     ]
    },
    {
     "data": {
      "image/png": "[encoded data removed]",
      "text/plain": [
       "<Figure size 720x432 with 1 Axes>"
      ]
     },
     "metadata": {},
     "output_type": "display_data"
    }
   ],
   "source": [
    "sns.set_context('poster')\n",
    "\n",
    "x = wish['rating_count'].values\n",
    "\n",
    "# 3. add boxplot \n",
    "sns.boxplot(x, showmeans = True)\n",
    "\n",
    "# The line in the middle signifies the median\n",
    "# Check your median value with python \n",
    "print(wish['rating_count'].median())\n",
    "# Check your median value with python\n",
    "print(wish['rating_count'].mean())"
   ]
  },
  {
   "cell_type": "code",
   "execution_count": 38,
   "metadata": {},
   "outputs": [
    {
     "data": {
      "text/plain": [
       "[Text(0.5, 0, '')]"
      ]
     },
     "execution_count": 38,
     "metadata": {},
     "output_type": "execute_result"
    },
    {
     "data": {
      "image/png": "[encoded data removed]",
      "text/plain": [
       "<Figure size 720x432 with 2 Axes>"
      ]
     },
     "metadata": {},
     "output_type": "display_data"
    }
   ],
   "source": [
    "# Cut the window in 2 parts\n",
    "sns.set(rc={'figure.figsize': (10, 6)})\n",
    "\n",
    "f, (ax_box, ax_hist) = plt.subplots(2, sharex=True, gridspec_kw={\"height_ratios\": (.15, .85)})\n",
    " \n",
    "# Add a graph in each part\n",
    "sns.boxplot(wish[\"rating_count\"], ax=ax_box)\n",
    "sns.distplot(wish[\"rating_count\"], ax=ax_hist)\n",
    " \n",
    "# Remove x axis name for the boxplot\n",
    "ax_box.set(xlabel='')"
   ]
  },
  {
   "cell_type": "markdown",
   "metadata": {},
   "source": [
    "# Rating Five Count\n",
    "The total amount of five star ratings the product recived. {float64}"
   ]
  },
  {
   "cell_type": "code",
   "execution_count": 39,
   "metadata": {},
   "outputs": [
    {
     "data": {
      "text/plain": [
       "count     1528.000000\n",
       "mean       442.263743\n",
       "std        980.203270\n",
       "min          0.000000\n",
       "25%         12.000000\n",
       "50%         79.000000\n",
       "75%        413.500000\n",
       "max      11548.000000\n",
       "Name: rating_five_count, dtype: float64"
      ]
     },
     "execution_count": 39,
     "metadata": {},
     "output_type": "execute_result"
    }
   ],
   "source": [
    "wish['rating_five_count'].describe()"
   ]
  },
  {
   "cell_type": "code",
   "execution_count": 40,
   "metadata": {},
   "outputs": [],
   "source": [
    "wish['rating_five_count'] = wish['rating_five_count'].replace(np.nan, 0)"
   ]
  },
  {
   "cell_type": "code",
   "execution_count": 41,
   "metadata": {},
   "outputs": [
    {
     "data": {
      "text/plain": [
       "count     1573.000000\n",
       "mean       429.611570\n",
       "std        968.882684\n",
       "min          0.000000\n",
       "25%         10.000000\n",
       "50%         72.000000\n",
       "75%        394.000000\n",
       "max      11548.000000\n",
       "Name: rating_five_count, dtype: float64"
      ]
     },
     "execution_count": 41,
     "metadata": {},
     "output_type": "execute_result"
    }
   ],
   "source": [
    "wish['rating_five_count'].describe()"
   ]
  },
  {
   "cell_type": "markdown",
   "metadata": {},
   "source": [
    "# Rating Four Count\n",
    "The total amount of four star ratings the product recived. {float64}"
   ]
  },
  {
   "cell_type": "code",
   "execution_count": 42,
   "metadata": {},
   "outputs": [
    {
     "data": {
      "text/plain": [
       "count    1528.000000\n",
       "mean      179.599476\n",
       "std       400.516231\n",
       "min         0.000000\n",
       "25%         5.000000\n",
       "50%        31.500000\n",
       "75%       168.250000\n",
       "max      4152.000000\n",
       "Name: rating_four_count, dtype: float64"
      ]
     },
     "execution_count": 42,
     "metadata": {},
     "output_type": "execute_result"
    }
   ],
   "source": [
    "wish['rating_four_count'].describe()"
   ]
  },
  {
   "cell_type": "code",
   "execution_count": 43,
   "metadata": {},
   "outputs": [],
   "source": [
    "wish['rating_four_count'] = wish['rating_four_count'].replace(np.nan, 0)"
   ]
  },
  {
   "cell_type": "code",
   "execution_count": 44,
   "metadata": {},
   "outputs": [
    {
     "data": {
      "text/plain": [
       "count    1573.000000\n",
       "mean      174.461538\n",
       "std       395.876511\n",
       "min         0.000000\n",
       "25%         4.000000\n",
       "50%        29.000000\n",
       "75%       163.000000\n",
       "max      4152.000000\n",
       "Name: rating_four_count, dtype: float64"
      ]
     },
     "execution_count": 44,
     "metadata": {},
     "output_type": "execute_result"
    }
   ],
   "source": [
    "wish['rating_four_count'].describe()"
   ]
  },
  {
   "cell_type": "markdown",
   "metadata": {},
   "source": [
    "# Rating Three Count\n",
    "The total amount of three star ratings the product recived. {float64}"
   ]
  },
  {
   "cell_type": "code",
   "execution_count": 45,
   "metadata": {},
   "outputs": [
    {
     "data": {
      "text/plain": [
       "count    1528.000000\n",
       "mean      134.549738\n",
       "std       311.690656\n",
       "min         0.000000\n",
       "25%         4.000000\n",
       "50%        24.000000\n",
       "75%       129.250000\n",
       "max      3658.000000\n",
       "Name: rating_three_count, dtype: float64"
      ]
     },
     "execution_count": 45,
     "metadata": {},
     "output_type": "execute_result"
    }
   ],
   "source": [
    "wish['rating_three_count'].describe()"
   ]
  },
  {
   "cell_type": "code",
   "execution_count": 46,
   "metadata": {},
   "outputs": [],
   "source": [
    "wish['rating_three_count'] = wish['rating_three_count'].replace(np.nan, 0)"
   ]
  },
  {
   "cell_type": "code",
   "execution_count": 47,
   "metadata": {},
   "outputs": [
    {
     "data": {
      "text/plain": [
       "count    1573.000000\n",
       "mean      130.700572\n",
       "std       308.015310\n",
       "min         0.000000\n",
       "25%         3.000000\n",
       "50%        22.000000\n",
       "75%       121.000000\n",
       "max      3658.000000\n",
       "Name: rating_three_count, dtype: float64"
      ]
     },
     "execution_count": 47,
     "metadata": {},
     "output_type": "execute_result"
    }
   ],
   "source": [
    "wish['rating_three_count'].describe()"
   ]
  },
  {
   "cell_type": "markdown",
   "metadata": {},
   "source": [
    "# Rating Two Count\n",
    "The total amount of two star ratings the product recived. {float64}"
   ]
  },
  {
   "cell_type": "code",
   "execution_count": 48,
   "metadata": {},
   "outputs": [
    {
     "data": {
      "text/plain": [
       "count    1528.000000\n",
       "mean       63.711387\n",
       "std       151.343933\n",
       "min         0.000000\n",
       "25%         2.000000\n",
       "50%        11.000000\n",
       "75%        62.000000\n",
       "max      2003.000000\n",
       "Name: rating_two_count, dtype: float64"
      ]
     },
     "execution_count": 48,
     "metadata": {},
     "output_type": "execute_result"
    }
   ],
   "source": [
    "wish['rating_two_count'].describe()"
   ]
  },
  {
   "cell_type": "code",
   "execution_count": 49,
   "metadata": {},
   "outputs": [],
   "source": [
    "wish['rating_two_count'] = wish['rating_two_count'].replace(np.nan, 0)"
   ]
  },
  {
   "cell_type": "code",
   "execution_count": 50,
   "metadata": {},
   "outputs": [
    {
     "data": {
      "text/plain": [
       "count    1573.000000\n",
       "mean       61.888748\n",
       "std       149.539900\n",
       "min         0.000000\n",
       "25%         1.000000\n",
       "50%        10.000000\n",
       "75%        59.000000\n",
       "max      2003.000000\n",
       "Name: rating_two_count, dtype: float64"
      ]
     },
     "execution_count": 50,
     "metadata": {},
     "output_type": "execute_result"
    }
   ],
   "source": [
    "wish['rating_two_count'].describe()"
   ]
  },
  {
   "cell_type": "markdown",
   "metadata": {},
   "source": [
    "# Rating One Count\n",
    "The total amount of one star ratings the product recived. {float64}"
   ]
  },
  {
   "cell_type": "code",
   "execution_count": 51,
   "metadata": {},
   "outputs": [
    {
     "data": {
      "text/plain": [
       "count    1528.000000\n",
       "mean       95.735602\n",
       "std       214.075544\n",
       "min         0.000000\n",
       "25%         4.000000\n",
       "50%        20.000000\n",
       "75%        94.000000\n",
       "max      2789.000000\n",
       "Name: rating_one_count, dtype: float64"
      ]
     },
     "execution_count": 51,
     "metadata": {},
     "output_type": "execute_result"
    }
   ],
   "source": [
    "wish['rating_one_count'].describe()"
   ]
  },
  {
   "cell_type": "code",
   "execution_count": 52,
   "metadata": {},
   "outputs": [],
   "source": [
    "wish['rating_one_count'] = wish['rating_one_count'].replace(np.nan, 0)"
   ]
  },
  {
   "cell_type": "code",
   "execution_count": 53,
   "metadata": {},
   "outputs": [
    {
     "data": {
      "text/plain": [
       "count    1573.000000\n",
       "mean       92.996821\n",
       "std       211.592341\n",
       "min         0.000000\n",
       "25%         3.000000\n",
       "50%        18.000000\n",
       "75%        90.000000\n",
       "max      2789.000000\n",
       "Name: rating_one_count, dtype: float64"
      ]
     },
     "execution_count": 53,
     "metadata": {},
     "output_type": "execute_result"
    }
   ],
   "source": [
    "wish['rating_one_count'].describe()"
   ]
  },
  {
   "cell_type": "markdown",
   "metadata": {},
   "source": [
    "# Badges Count\n",
    "Number of badges the product or the seller have. {int64}"
   ]
  },
  {
   "cell_type": "code",
   "execution_count": 54,
   "metadata": {},
   "outputs": [
    {
     "data": {
      "text/plain": [
       "count    1573.000000\n",
       "mean        0.105531\n",
       "std         0.340709\n",
       "min         0.000000\n",
       "25%         0.000000\n",
       "50%         0.000000\n",
       "75%         0.000000\n",
       "max         3.000000\n",
       "Name: badges_count, dtype: float64"
      ]
     },
     "execution_count": 54,
     "metadata": {},
     "output_type": "execute_result"
    }
   ],
   "source": [
    "wish['badges_count'].describe()"
   ]
  },
  {
   "cell_type": "code",
   "execution_count": 55,
   "metadata": {},
   "outputs": [
    {
     "data": {
      "text/plain": [
       "0    1422\n",
       "1     138\n",
       "2      11\n",
       "3       2\n",
       "Name: badges_count, dtype: int64"
      ]
     },
     "execution_count": 55,
     "metadata": {},
     "output_type": "execute_result"
    }
   ],
   "source": [
    "wish['badges_count'].value_counts()"
   ]
  },
  {
   "cell_type": "markdown",
   "metadata": {},
   "source": [
    "# Badge Local Product\n",
    "A badge that denotes the product is a local product. Conditions may vary (being produced locally, or something else)."
   ]
  },
  {
   "cell_type": "code",
   "execution_count": 56,
   "metadata": {},
   "outputs": [
    {
     "data": {
      "text/plain": [
       "0    1544\n",
       "1      29\n",
       "Name: badge_local_product, dtype: int64"
      ]
     },
     "execution_count": 56,
     "metadata": {},
     "output_type": "execute_result"
    }
   ],
   "source": [
    "wish['badge_local_product'].value_counts()"
   ]
  },
  {
   "cell_type": "markdown",
   "metadata": {},
   "source": [
    "# Badge Product Quality\n",
    "Badge awarded when many buyers consistently gave good evaluations. 1 means the merchant has the badge."
   ]
  },
  {
   "cell_type": "code",
   "execution_count": 57,
   "metadata": {},
   "outputs": [
    {
     "data": {
      "text/plain": [
       "0    1456\n",
       "1     117\n",
       "Name: badge_product_quality, dtype: int64"
      ]
     },
     "execution_count": 57,
     "metadata": {},
     "output_type": "execute_result"
    }
   ],
   "source": [
    "wish['badge_product_quality'].value_counts()"
   ]
  },
  {
   "cell_type": "markdown",
   "metadata": {},
   "source": [
    "# Badge Fast Shipping\n",
    "Badge awarded when this product's order is consistently shipped rapidly"
   ]
  },
  {
   "cell_type": "code",
   "execution_count": 58,
   "metadata": {},
   "outputs": [
    {
     "data": {
      "text/plain": [
       "0    1553\n",
       "1      20\n",
       "Name: badge_fast_shipping, dtype: int64"
      ]
     },
     "execution_count": 58,
     "metadata": {},
     "output_type": "execute_result"
    }
   ],
   "source": [
    "wish['badge_fast_shipping'].value_counts()"
   ]
  },
  {
   "cell_type": "markdown",
   "metadata": {},
   "source": [
    "# Tags\n",
    "tags set by the seller."
   ]
  },
  {
   "cell_type": "code",
   "execution_count": 59,
   "metadata": {},
   "outputs": [
    {
     "data": {
      "text/plain": [
       "0    Summer,Fashion,womenunderwearsuit,printedpajam...\n",
       "1    Mini,womens dresses,Summer,Patchwork,fashion d...\n",
       "2    Summer,cardigan,women beachwear,chiffon,Sexy w...\n",
       "3    Summer,Shorts,Cotton,Cotton T Shirt,Sleeve,pri...\n",
       "4    Summer,Plus Size,Lace,Casual pants,Bottom,pant...\n",
       "5    Deep V-Neck,Summer,Plus Size,Spaghetti Strap,O...\n",
       "6    blouse,Women,lace t shirt,summer t-shirts,Lace...\n",
       "7    Jeans,Fashion,tunic,Shirt,Summer,Dress,Denim,s...\n",
       "8    slim dress,summer dress,womenshortsleevedre,Sl...\n",
       "9    blouse,Summer,Plus Size,Floral print,Necks,Sle...\n",
       "Name: tags, dtype: object"
      ]
     },
     "execution_count": 59,
     "metadata": {},
     "output_type": "execute_result"
    }
   ],
   "source": [
    "wish['tags'].head(10)"
   ]
  },
  {
   "cell_type": "markdown",
   "metadata": {},
   "source": [
    "# Product Color\n",
    "The product's main color."
   ]
  },
  {
   "cell_type": "code",
   "execution_count": 60,
   "metadata": {},
   "outputs": [
    {
     "data": {
      "text/plain": [
       "black                  302\n",
       "white                  254\n",
       "yellow                 105\n",
       "pink                    99\n",
       "blue                    99\n",
       "red                     93\n",
       "green                   90\n",
       "grey                    71\n",
       "purple                  53\n",
       "armygreen               31\n",
       "navyblue                28\n",
       "winered                 28\n",
       "orange                  27\n",
       "multicolor              20\n",
       "beige                   14\n",
       "khaki                   12\n",
       "lightblue               12\n",
       "gray                    11\n",
       "white & green           10\n",
       "rosered                  8\n",
       "skyblue                  8\n",
       "coffee                   7\n",
       "brown                    7\n",
       "darkblue                 6\n",
       "rose                     5\n",
       "floral                   5\n",
       "lightpink                4\n",
       "navy                     4\n",
       "fluorescentgreen         4\n",
       "leopard                  4\n",
       "black & green            4\n",
       "black & white            3\n",
       "lightgreen               3\n",
       "camouflage               3\n",
       "White                    3\n",
       "orange-red               3\n",
       "Black                    3\n",
       "Army green               2\n",
       "pink & blue              2\n",
       "Pink                     2\n",
       "lightred                 2\n",
       "mintgreen                2\n",
       "pink & white             2\n",
       "pink & grey              2\n",
       "applegreen               2\n",
       "dustypink                2\n",
       "watermelonred            2\n",
       "black & yellow           2\n",
       "lakeblue                 2\n",
       "navy blue                2\n",
       "burgundy                 2\n",
       "white & black            2\n",
       "black & blue             2\n",
       "wine                     2\n",
       "apricot                  2\n",
       "lightyellow              2\n",
       "coolblack                2\n",
       "silver                   2\n",
       "whitefloral              2\n",
       "camel                    2\n",
       "coralred                 2\n",
       "pink & black             2\n",
       "wine red                 1\n",
       "violet                   1\n",
       "lightkhaki               1\n",
       "claret                   1\n",
       "star                     1\n",
       "RED                      1\n",
       "prussianblue             1\n",
       "greysnakeskinprint       1\n",
       "offwhite                 1\n",
       "lightgrey                1\n",
       "winered & yellow         1\n",
       "tan                      1\n",
       "lightpurple              1\n",
       "brown & yellow           1\n",
       "blue & pink              1\n",
       "Rose red                 1\n",
       "orange & camouflage      1\n",
       "Blue                     1\n",
       "leopardprint             1\n",
       "jasper                   1\n",
       "ivory                    1\n",
       "darkgreen                1\n",
       "light green              1\n",
       "denimblue                1\n",
       "white & red              1\n",
       "gold                     1\n",
       "lightgray                1\n",
       "whitestripe              1\n",
       "rosegold                 1\n",
       "offblack                 1\n",
       "rainbow                  1\n",
       "navyblue & white         1\n",
       "army                     1\n",
       "nude                     1\n",
       "black & stripe           1\n",
       "blackwhite               1\n",
       "red & blue               1\n",
       "gray & white             1\n",
       "army green               1\n",
       "Name: product_color, dtype: int64"
      ]
     },
     "execution_count": 60,
     "metadata": {},
     "output_type": "execute_result"
    }
   ],
   "source": [
    "wish['product_color'].value_counts()"
   ]
  },
  {
   "cell_type": "markdown",
   "metadata": {},
   "source": [
    "# Product Variation Size Id\n",
    "One of the available size variation for this product."
   ]
  },
  {
   "cell_type": "code",
   "execution_count": 61,
   "metadata": {},
   "outputs": [
    {
     "data": {
      "text/plain": [
       "S                               641\n",
       "XS                              356\n",
       "M                               200\n",
       "XXS                             100\n",
       "L                                49\n",
       "S.                               18\n",
       "XL                               17\n",
       "XXL                              15\n",
       "XXXS                              6\n",
       "4XL                               5\n",
       "s                                 5\n",
       "Size S                            5\n",
       "XS.                               5\n",
       "M.                                4\n",
       "Size-XS                           4\n",
       "SIZE XS                           4\n",
       "2XL                               4\n",
       "33                                3\n",
       "34                                3\n",
       "10 ml                             3\n",
       "Size-S                            3\n",
       "SizeL                             3\n",
       "2pcs                              3\n",
       "35                                2\n",
       "5XL                               2\n",
       "Size S.                           2\n",
       "XXXXL                             2\n",
       "S Pink                            2\n",
       "1 pc.                             2\n",
       "One Size                          2\n",
       "EU 35                             2\n",
       "3XL                               2\n",
       "XXXXXL                            2\n",
       "SIZE-XXS                          2\n",
       "Suit-S                            2\n",
       "29                                2\n",
       "Size M                            2\n",
       "1                                 2\n",
       "Size4XL                           2\n",
       "Size -XXS                         2\n",
       "25                                2\n",
       "size S                            2\n",
       "S(bust 88cm)                      2\n",
       "White                             1\n",
       "S (waist58-62cm)                  1\n",
       "6XL                               1\n",
       "30 cm                             1\n",
       "Baby Float Boat                   1\n",
       "daughter 24M                      1\n",
       "1pc                               1\n",
       "Size-XXS                          1\n",
       "60                                1\n",
       "Women Size 36                     1\n",
       "Women Size 37                     1\n",
       "40 cm                             1\n",
       "Size/S                            1\n",
       "Base Coat                         1\n",
       "17                                1\n",
       "US 6.5 (EU 37)                    1\n",
       "L.                                1\n",
       "10pcs                             1\n",
       "5PAIRS                            1\n",
       "100 x 100cm(39.3 x 39.3inch)      1\n",
       "Base & Top & Matte Top Coat       1\n",
       "4                                 1\n",
       "Size-L                            1\n",
       "SIZE-4XL                          1\n",
       "Round                             1\n",
       "S/M(child)                        1\n",
       "5                                 1\n",
       "Floating Chair for Kid            1\n",
       "Pack of 1                         1\n",
       "4-5 Years                         1\n",
       "Size XXS                          1\n",
       "X   L                             1\n",
       "36                                1\n",
       "80 X 200 CM                       1\n",
       "25-S                              1\n",
       "2                                 1\n",
       "20PCS-10PAIRS                     1\n",
       "S..                               1\n",
       "US5.5-EU35                        1\n",
       "Size--S                           1\n",
       "100 cm                            1\n",
       "100pcs                            1\n",
       "04-3XL                            1\n",
       "SIZE S                            1\n",
       "32/L                              1\n",
       "1m by 3m                          1\n",
       "first  generation                 1\n",
       "S Diameter 30cm                   1\n",
       "EU39(US8)                         1\n",
       "20pcs                             1\n",
       "B                                 1\n",
       "26(Waist 72cm 28inch)             1\n",
       "1 PC - XL                         1\n",
       "SIZE XXS                          1\n",
       "Size-5XL                          1\n",
       "XXXL                              1\n",
       "H01                               1\n",
       "US-S                              1\n",
       "AU plug Low quality               1\n",
       "S(Pink & Black)                   1\n",
       "pants-S                           1\n",
       "choose a size                     1\n",
       "3 layered anklet                  1\n",
       "Name: product_variation_size_id, dtype: int64"
      ]
     },
     "execution_count": 61,
     "metadata": {},
     "output_type": "execute_result"
    }
   ],
   "source": [
    "wish['product_variation_size_id'].value_counts()"
   ]
  },
  {
   "cell_type": "markdown",
   "metadata": {},
   "source": [
    "# Product Variation Inventory\n",
    "Inventory the seller has. Max allowed quantity is 50"
   ]
  },
  {
   "cell_type": "code",
   "execution_count": 62,
   "metadata": {},
   "outputs": [
    {
     "data": {
      "text/plain": [
       "50    907\n",
       "1     152\n",
       "2      81\n",
       "5      74\n",
       "3      52\n",
       "10     40\n",
       "4      25\n",
       "9      22\n",
       "7      18\n",
       "6      18\n",
       "20     16\n",
       "15     13\n",
       "17     11\n",
       "18     10\n",
       "49      9\n",
       "13      8\n",
       "19      7\n",
       "29      7\n",
       "25      7\n",
       "44      6\n",
       "8       6\n",
       "11      6\n",
       "46      6\n",
       "30      6\n",
       "12      5\n",
       "14      5\n",
       "47      4\n",
       "34      4\n",
       "35      4\n",
       "36      4\n",
       "41      4\n",
       "43      4\n",
       "48      4\n",
       "27      3\n",
       "45      3\n",
       "23      2\n",
       "21      2\n",
       "26      2\n",
       "28      2\n",
       "31      2\n",
       "37      2\n",
       "38      2\n",
       "39      2\n",
       "40      2\n",
       "16      1\n",
       "22      1\n",
       "33      1\n",
       "24      1\n",
       "Name: product_variation_inventory, dtype: int64"
      ]
     },
     "execution_count": 62,
     "metadata": {},
     "output_type": "execute_result"
    }
   ],
   "source": [
    "wish['product_variation_inventory'].value_counts()"
   ]
  },
  {
   "cell_type": "markdown",
   "metadata": {},
   "source": [
    "# Shipping Option Name\n",
    "french shipping quality option"
   ]
  },
  {
   "cell_type": "code",
   "execution_count": 63,
   "metadata": {},
   "outputs": [
    {
     "data": {
      "text/plain": [
       "Livraison standard         1508\n",
       "Standard Shipping            21\n",
       "Envio Padrão                  9\n",
       "Expediere Standard            6\n",
       "Envío normal                  5\n",
       "الشحن القياسي                 4\n",
       "Стандартная доставка          3\n",
       "Standardowa wysyłka           3\n",
       "Standardversand               3\n",
       "Livraison Express             3\n",
       "Standart Gönderi              2\n",
       "Spedizione standard           2\n",
       "การส่งสินค้ามาตรฐาน           2\n",
       "Ekspresowa wysyłka            1\n",
       "ការដឹកជញ្ជូនតាមស្តង់ដារ       1\n",
       "Name: shipping_option_name, dtype: int64"
      ]
     },
     "execution_count": 63,
     "metadata": {},
     "output_type": "execute_result"
    }
   ],
   "source": [
    "wish['shipping_option_name'].value_counts()"
   ]
  },
  {
   "cell_type": "markdown",
   "metadata": {},
   "source": [
    "# Shipping Option Price\n",
    "shipping price"
   ]
  },
  {
   "cell_type": "code",
   "execution_count": 64,
   "metadata": {},
   "outputs": [
    {
     "data": {
      "text/plain": [
       "2     619\n",
       "3     520\n",
       "1     308\n",
       "4      76\n",
       "5      32\n",
       "6      12\n",
       "7       5\n",
       "12      1\n",
       "Name: shipping_option_price, dtype: int64"
      ]
     },
     "execution_count": 64,
     "metadata": {},
     "output_type": "execute_result"
    }
   ],
   "source": [
    "wish['shipping_option_price'].value_counts()"
   ]
  },
  {
   "cell_type": "markdown",
   "metadata": {},
   "source": [
    "# Shipping Is Express\n",
    "whether the shipping is express or not. 1 for True."
   ]
  },
  {
   "cell_type": "code",
   "execution_count": 65,
   "metadata": {},
   "outputs": [
    {
     "data": {
      "text/plain": [
       "0    1569\n",
       "1       4\n",
       "Name: shipping_is_express, dtype: int64"
      ]
     },
     "execution_count": 65,
     "metadata": {},
     "output_type": "execute_result"
    }
   ],
   "source": [
    "wish['shipping_is_express'].value_counts()"
   ]
  },
  {
   "cell_type": "markdown",
   "metadata": {},
   "source": [
    "# Countries Shipped To\n",
    "Number of countries this product is shipped to. Sellers may choose to limit where they ship a product to."
   ]
  },
  {
   "cell_type": "code",
   "execution_count": 66,
   "metadata": {},
   "outputs": [
    {
     "data": {
      "text/plain": [
       "41     171\n",
       "43     170\n",
       "40     106\n",
       "38      76\n",
       "36      64\n",
       "35      61\n",
       "42      57\n",
       "39      43\n",
       "25      39\n",
       "37      38\n",
       "33      35\n",
       "45      34\n",
       "23      34\n",
       "20      34\n",
       "31      34\n",
       "27      31\n",
       "26      31\n",
       "48      29\n",
       "24      25\n",
       "32      25\n",
       "44      25\n",
       "34      23\n",
       "30      21\n",
       "18      19\n",
       "28      18\n",
       "21      18\n",
       "14      17\n",
       "47      17\n",
       "49      15\n",
       "22      14\n",
       "139     14\n",
       "54      14\n",
       "29      14\n",
       "46      12\n",
       "17      12\n",
       "55      11\n",
       "52      10\n",
       "50       9\n",
       "138      9\n",
       "51       8\n",
       "63       7\n",
       "10       7\n",
       "19       7\n",
       "8        6\n",
       "58       6\n",
       "81       5\n",
       "127      5\n",
       "80       5\n",
       "15       4\n",
       "57       4\n",
       "109      4\n",
       "9        4\n",
       "13       4\n",
       "60       4\n",
       "137      3\n",
       "140      3\n",
       "118      3\n",
       "61       3\n",
       "94       3\n",
       "16       3\n",
       "90       3\n",
       "11       2\n",
       "12       2\n",
       "53       2\n",
       "79       2\n",
       "62       2\n",
       "135      2\n",
       "132      2\n",
       "78       2\n",
       "74       2\n",
       "70       2\n",
       "104      1\n",
       "91       1\n",
       "93       1\n",
       "107      1\n",
       "105      1\n",
       "83       1\n",
       "111      1\n",
       "124      1\n",
       "125      1\n",
       "84       1\n",
       "56       1\n",
       "82       1\n",
       "59       1\n",
       "73       1\n",
       "72       1\n",
       "71       1\n",
       "69       1\n",
       "68       1\n",
       "67       1\n",
       "66       1\n",
       "65       1\n",
       "64       1\n",
       "6        1\n",
       "Name: countries_shipped_to, dtype: int64"
      ]
     },
     "execution_count": 66,
     "metadata": {},
     "output_type": "execute_result"
    }
   ],
   "source": [
    "wish['countries_shipped_to'].value_counts()"
   ]
  },
  {
   "cell_type": "markdown",
   "metadata": {},
   "source": [
    "# Inventory Total\n",
    "Total inventory for all the product's variations (size/color variations for instance)"
   ]
  },
  {
   "cell_type": "code",
   "execution_count": 67,
   "metadata": {},
   "outputs": [
    {
     "data": {
      "text/plain": [
       "50    1563\n",
       "2        2\n",
       "40       1\n",
       "38       1\n",
       "37       1\n",
       "36       1\n",
       "30       1\n",
       "24       1\n",
       "9        1\n",
       "1        1\n",
       "Name: inventory_total, dtype: int64"
      ]
     },
     "execution_count": 67,
     "metadata": {},
     "output_type": "execute_result"
    }
   ],
   "source": [
    "wish['inventory_total'].value_counts()"
   ]
  },
  {
   "cell_type": "markdown",
   "metadata": {},
   "source": [
    "# Has Urgency Banner\n",
    "whether there was an urgency banner on the product."
   ]
  },
  {
   "cell_type": "code",
   "execution_count": 68,
   "metadata": {},
   "outputs": [
    {
     "data": {
      "text/plain": [
       "1.0    473\n",
       "Name: has_urgency_banner, dtype: int64"
      ]
     },
     "execution_count": 68,
     "metadata": {},
     "output_type": "execute_result"
    }
   ],
   "source": [
    "wish['has_urgency_banner'].value_counts()"
   ]
  },
  {
   "cell_type": "code",
   "execution_count": 69,
   "metadata": {},
   "outputs": [
    {
     "data": {
      "text/plain": [
       "0.0    1100\n",
       "1.0     473\n",
       "Name: has_urgency_banner, dtype: int64"
      ]
     },
     "execution_count": 69,
     "metadata": {},
     "output_type": "execute_result"
    }
   ],
   "source": [
    "wish['has_urgency_banner'] = wish['has_urgency_banner'].replace(np.nan, 0)\n",
    "wish['has_urgency_banner'].value_counts()"
   ]
  },
  {
   "cell_type": "markdown",
   "metadata": {},
   "source": [
    "# Urgency Text\n",
    "A text banner that appear over some products in the search results."
   ]
  },
  {
   "cell_type": "code",
   "execution_count": 70,
   "metadata": {},
   "outputs": [
    {
     "data": {
      "text/plain": [
       "Quantité limitée !                  472\n",
       "Réduction sur les achats en gros      1\n",
       "Name: urgency_text, dtype: int64"
      ]
     },
     "execution_count": 70,
     "metadata": {},
     "output_type": "execute_result"
    }
   ],
   "source": [
    "wish['urgency_text'].value_counts()"
   ]
  },
  {
   "cell_type": "markdown",
   "metadata": {},
   "source": [
    "# Origin Country\n",
    "country where the products are coming from."
   ]
  },
  {
   "cell_type": "code",
   "execution_count": 71,
   "metadata": {},
   "outputs": [
    {
     "data": {
      "text/plain": [
       "CN    1516\n",
       "US      31\n",
       "VE       5\n",
       "SG       2\n",
       "GB       1\n",
       "AT       1\n",
       "Name: origin_country, dtype: int64"
      ]
     },
     "execution_count": 71,
     "metadata": {},
     "output_type": "execute_result"
    }
   ],
   "source": [
    "wish['origin_country'].value_counts()"
   ]
  },
  {
   "cell_type": "code",
   "execution_count": 72,
   "metadata": {},
   "outputs": [],
   "source": [
    "def change_country(item):\n",
    "    if item == 'VE':\n",
    "        return 'Other'\n",
    "    elif item == 'SG':\n",
    "        return 'Other'\n",
    "    elif item == 'AT':\n",
    "        return 'Other'\n",
    "    elif item == 'GB':\n",
    "        return 'Other'\n",
    "    else:\n",
    "        return item"
   ]
  },
  {
   "cell_type": "code",
   "execution_count": 73,
   "metadata": {},
   "outputs": [],
   "source": [
    "wish['origin_country'] = wish['origin_country'].apply(change_country)"
   ]
  },
  {
   "cell_type": "code",
   "execution_count": 74,
   "metadata": {},
   "outputs": [
    {
     "data": {
      "text/plain": [
       "CN       1516\n",
       "US         31\n",
       "Other       9\n",
       "Name: origin_country, dtype: int64"
      ]
     },
     "execution_count": 74,
     "metadata": {},
     "output_type": "execute_result"
    }
   ],
   "source": [
    "wish['origin_country'].value_counts()"
   ]
  },
  {
   "cell_type": "markdown",
   "metadata": {},
   "source": [
    "# Merchant Title\n",
    "Merchant's displayed name (show in the UI as the seller's shop name)."
   ]
  },
  {
   "cell_type": "code",
   "execution_count": 75,
   "metadata": {},
   "outputs": [
    {
     "data": {
      "text/plain": [
       "0                  zgrdejia\n",
       "1                 SaraHouse\n",
       "2                    hxt520\n",
       "3                  allenfan\n",
       "4           youngpeopleshop\n",
       "5             zhoulinglinga\n",
       "6    Unique Li Fashion Shop\n",
       "7                   So Band\n",
       "8           chenxiangjunjun\n",
       "9             Luowei clothe\n",
       "Name: merchant_title, dtype: object"
      ]
     },
     "execution_count": 75,
     "metadata": {},
     "output_type": "execute_result"
    }
   ],
   "source": [
    "wish['merchant_title'].head(10)"
   ]
  },
  {
   "cell_type": "markdown",
   "metadata": {},
   "source": [
    "# Merchant Name\n",
    "Merchant's canonical name. A name not shown publicly. Used by the website under the hood as a canonical name."
   ]
  },
  {
   "cell_type": "code",
   "execution_count": 76,
   "metadata": {},
   "outputs": [
    {
     "data": {
      "text/plain": [
       "0                                             zgrdejia\n",
       "1                                            sarahouse\n",
       "2                                               hxt520\n",
       "3                                             allenfan\n",
       "4                                          happyhorses\n",
       "5                                        zhoulinglinga\n",
       "6    uniquelifashionshopbb657bfe91d211e598c7063a14d...\n",
       "7                                               soband\n",
       "8                                      chenxiangjunjun\n",
       "9                                         luoweiclothe\n",
       "Name: merchant_name, dtype: object"
      ]
     },
     "execution_count": 76,
     "metadata": {},
     "output_type": "execute_result"
    }
   ],
   "source": [
    "wish['merchant_name'].head(10)"
   ]
  },
  {
   "cell_type": "code",
   "execution_count": 77,
   "metadata": {},
   "outputs": [],
   "source": [
    "del wish['merchant_name']"
   ]
  },
  {
   "cell_type": "code",
   "execution_count": 78,
   "metadata": {},
   "outputs": [
    {
     "data": {
      "text/plain": [
       "Index(['title', 'title_orig', 'price', 'retail_price', 'units_sold',\n",
       "       'uses_ad_boosts', 'rating', 'rating_count', 'rating_five_count',\n",
       "       'rating_four_count', 'rating_three_count', 'rating_two_count',\n",
       "       'rating_one_count', 'badges_count', 'badge_local_product',\n",
       "       'badge_product_quality', 'badge_fast_shipping', 'tags', 'product_color',\n",
       "       'product_variation_size_id', 'product_variation_inventory',\n",
       "       'shipping_option_name', 'shipping_option_price', 'shipping_is_express',\n",
       "       'countries_shipped_to', 'inventory_total', 'has_urgency_banner',\n",
       "       'urgency_text', 'origin_country', 'merchant_title',\n",
       "       'merchant_info_subtitle', 'merchant_rating_count', 'merchant_rating',\n",
       "       'merchant_id', 'merchant_has_profile_picture',\n",
       "       'merchant_profile_picture', 'product_url', 'product_picture',\n",
       "       'product_id', 'theme', 'crawl_month'],\n",
       "      dtype='object')"
      ]
     },
     "execution_count": 78,
     "metadata": {},
     "output_type": "execute_result"
    }
   ],
   "source": [
    "wish.columns"
   ]
  },
  {
   "cell_type": "markdown",
   "metadata": {},
   "source": [
    "# Merchant Info Subtitle\n",
    "The subtitle text as shown on a seller's info section to the user. (raw, not preprocessed). The website shows this to the user."
   ]
  },
  {
   "cell_type": "code",
   "execution_count": 79,
   "metadata": {},
   "outputs": [
    {
     "data": {
      "text/plain": [
       "0                          (568 notes)\n",
       "1    83 % avis positifs (17,752 notes)\n",
       "2       86 % avis positifs (295 notes)\n",
       "3                       (23,832 notes)\n",
       "4    85 % avis positifs (14,482 notes)\n",
       "5        75 % avis positifs (65 notes)\n",
       "6    86 % avis positifs (10,194 notes)\n",
       "7                          (342 notes)\n",
       "8       82 % avis positifs (330 notes)\n",
       "9     85 % avis positifs (5,534 notes)\n",
       "Name: merchant_info_subtitle, dtype: object"
      ]
     },
     "execution_count": 79,
     "metadata": {},
     "output_type": "execute_result"
    }
   ],
   "source": [
    "wish['merchant_info_subtitle'].head(10)"
   ]
  },
  {
   "cell_type": "code",
   "execution_count": 80,
   "metadata": {},
   "outputs": [],
   "source": [
    "def positive_per(words):\n",
    "    pos_ses = 'avis positifs'\n",
    "    if f'{pos_ses}' in f'{words}':\n",
    "        return 1\n",
    "    else:\n",
    "        return 0\n",
    "    \n",
    "wish['subtitle_rating'] = wish['merchant_info_subtitle'].apply(positive_per)"
   ]
  },
  {
   "cell_type": "code",
   "execution_count": 81,
   "metadata": {},
   "outputs": [
    {
     "data": {
      "text/plain": [
       "0    0\n",
       "1    1\n",
       "2    1\n",
       "3    0\n",
       "4    1\n",
       "5    1\n",
       "6    1\n",
       "7    0\n",
       "8    1\n",
       "9    1\n",
       "Name: subtitle_rating, dtype: int64"
      ]
     },
     "execution_count": 81,
     "metadata": {},
     "output_type": "execute_result"
    }
   ],
   "source": [
    "wish['subtitle_rating'].head(10)"
   ]
  },
  {
   "cell_type": "markdown",
   "metadata": {},
   "source": [
    "# Merchant Rating Count\n",
    "Number of ratings of this seller"
   ]
  },
  {
   "cell_type": "code",
   "execution_count": 82,
   "metadata": {},
   "outputs": [
    {
     "data": {
      "text/plain": [
       "count    1.573000e+03\n",
       "mean     2.649583e+04\n",
       "std      7.847446e+04\n",
       "min      0.000000e+00\n",
       "25%      1.987000e+03\n",
       "50%      7.936000e+03\n",
       "75%      2.456400e+04\n",
       "max      2.174765e+06\n",
       "Name: merchant_rating_count, dtype: float64"
      ]
     },
     "execution_count": 82,
     "metadata": {},
     "output_type": "execute_result"
    }
   ],
   "source": [
    "wish['merchant_rating_count'].describe()"
   ]
  },
  {
   "cell_type": "markdown",
   "metadata": {},
   "source": [
    "# Merchant Rating\n",
    "merchant's rating"
   ]
  },
  {
   "cell_type": "code",
   "execution_count": 83,
   "metadata": {},
   "outputs": [
    {
     "data": {
      "text/plain": [
       "count    1573.000000\n",
       "mean        4.032345\n",
       "std         0.204768\n",
       "min         2.333333\n",
       "25%         3.917353\n",
       "50%         4.040650\n",
       "75%         4.161797\n",
       "max         5.000000\n",
       "Name: merchant_rating, dtype: float64"
      ]
     },
     "execution_count": 83,
     "metadata": {},
     "output_type": "execute_result"
    }
   ],
   "source": [
    "wish['merchant_rating'].describe()"
   ]
  },
  {
   "cell_type": "code",
   "execution_count": 84,
   "metadata": {},
   "outputs": [],
   "source": [
    "# Need to graph"
   ]
  },
  {
   "cell_type": "markdown",
   "metadata": {},
   "source": [
    "# Merchant Has Profile Picture\n",
    "Convenience boolean that says whether there is a `merchant_profile_picture` url"
   ]
  },
  {
   "cell_type": "code",
   "execution_count": 85,
   "metadata": {},
   "outputs": [
    {
     "data": {
      "text/plain": [
       "0    1347\n",
       "1     226\n",
       "Name: merchant_has_profile_picture, dtype: int64"
      ]
     },
     "execution_count": 85,
     "metadata": {},
     "output_type": "execute_result"
    }
   ],
   "source": [
    "wish['merchant_has_profile_picture'].value_counts()"
   ]
  },
  {
   "cell_type": "markdown",
   "metadata": {},
   "source": [
    "# Product Url\n",
    "url to the product page. You may need to login to access it"
   ]
  },
  {
   "cell_type": "code",
   "execution_count": 86,
   "metadata": {},
   "outputs": [
    {
     "data": {
      "text/plain": [
       "0    https://www.wish.com/c/5e9ae51d43d6a96e303acdb0\n",
       "1    https://www.wish.com/c/58940d436a0d3d5da4e95a38\n",
       "2    https://www.wish.com/c/5ea10e2c617580260d55310a\n",
       "3    https://www.wish.com/c/5cedf17ad1d44c52c59e4aca\n",
       "4    https://www.wish.com/c/5ebf5819ebac372b070b0e70\n",
       "Name: product_url, dtype: object"
      ]
     },
     "execution_count": 86,
     "metadata": {},
     "output_type": "execute_result"
    }
   ],
   "source": [
    "wish['product_url'].head()"
   ]
  },
  {
   "cell_type": "code",
   "execution_count": 87,
   "metadata": {},
   "outputs": [],
   "source": [
    "del wish['product_url']"
   ]
  },
  {
   "cell_type": "code",
   "execution_count": 88,
   "metadata": {},
   "outputs": [
    {
     "data": {
      "text/plain": [
       "Index(['title', 'title_orig', 'price', 'retail_price', 'units_sold',\n",
       "       'uses_ad_boosts', 'rating', 'rating_count', 'rating_five_count',\n",
       "       'rating_four_count', 'rating_three_count', 'rating_two_count',\n",
       "       'rating_one_count', 'badges_count', 'badge_local_product',\n",
       "       'badge_product_quality', 'badge_fast_shipping', 'tags', 'product_color',\n",
       "       'product_variation_size_id', 'product_variation_inventory',\n",
       "       'shipping_option_name', 'shipping_option_price', 'shipping_is_express',\n",
       "       'countries_shipped_to', 'inventory_total', 'has_urgency_banner',\n",
       "       'urgency_text', 'origin_country', 'merchant_title',\n",
       "       'merchant_info_subtitle', 'merchant_rating_count', 'merchant_rating',\n",
       "       'merchant_id', 'merchant_has_profile_picture',\n",
       "       'merchant_profile_picture', 'product_picture', 'product_id', 'theme',\n",
       "       'crawl_month', 'subtitle_rating'],\n",
       "      dtype='object')"
      ]
     },
     "execution_count": 88,
     "metadata": {},
     "output_type": "execute_result"
    }
   ],
   "source": [
    "wish.columns"
   ]
  },
  {
   "cell_type": "markdown",
   "metadata": {},
   "source": [
    "# Product Picture\n",
    "actual picture of the product"
   ]
  },
  {
   "cell_type": "code",
   "execution_count": 89,
   "metadata": {},
   "outputs": [
    {
     "data": {
      "text/plain": [
       "0    https://contestimg.wish.com/api/webimage/5e9ae...\n",
       "1    https://contestimg.wish.com/api/webimage/58940...\n",
       "2    https://contestimg.wish.com/api/webimage/5ea10...\n",
       "3    https://contestimg.wish.com/api/webimage/5cedf...\n",
       "4    https://contestimg.wish.com/api/webimage/5ebf5...\n",
       "Name: product_picture, dtype: object"
      ]
     },
     "execution_count": 89,
     "metadata": {},
     "output_type": "execute_result"
    }
   ],
   "source": [
    "wish['product_picture'].head()"
   ]
  },
  {
   "cell_type": "markdown",
   "metadata": {},
   "source": [
    "# Product Id\n",
    "product identifier. You can use this key to remove duplicate entries if you're not interested in studying them."
   ]
  },
  {
   "cell_type": "code",
   "execution_count": 90,
   "metadata": {},
   "outputs": [
    {
     "data": {
      "text/plain": [
       "0    5e9ae51d43d6a96e303acdb0\n",
       "1    58940d436a0d3d5da4e95a38\n",
       "2    5ea10e2c617580260d55310a\n",
       "3    5cedf17ad1d44c52c59e4aca\n",
       "4    5ebf5819ebac372b070b0e70\n",
       "Name: product_id, dtype: object"
      ]
     },
     "execution_count": 90,
     "metadata": {},
     "output_type": "execute_result"
    }
   ],
   "source": [
    "wish['product_id'].head()"
   ]
  },
  {
   "cell_type": "markdown",
   "metadata": {},
   "source": [
    "# Theme\n",
    "the search term used in the search bar of the website to get these search results."
   ]
  },
  {
   "cell_type": "code",
   "execution_count": 91,
   "metadata": {},
   "outputs": [
    {
     "data": {
      "text/plain": [
       "summer    1573\n",
       "Name: theme, dtype: int64"
      ]
     },
     "execution_count": 91,
     "metadata": {},
     "output_type": "execute_result"
    }
   ],
   "source": [
    "wish['theme'].value_counts()"
   ]
  },
  {
   "cell_type": "code",
   "execution_count": 92,
   "metadata": {},
   "outputs": [],
   "source": [
    "del wish['theme']"
   ]
  },
  {
   "cell_type": "code",
   "execution_count": 93,
   "metadata": {},
   "outputs": [
    {
     "data": {
      "text/plain": [
       "Index(['title', 'title_orig', 'price', 'retail_price', 'units_sold',\n",
       "       'uses_ad_boosts', 'rating', 'rating_count', 'rating_five_count',\n",
       "       'rating_four_count', 'rating_three_count', 'rating_two_count',\n",
       "       'rating_one_count', 'badges_count', 'badge_local_product',\n",
       "       'badge_product_quality', 'badge_fast_shipping', 'tags', 'product_color',\n",
       "       'product_variation_size_id', 'product_variation_inventory',\n",
       "       'shipping_option_name', 'shipping_option_price', 'shipping_is_express',\n",
       "       'countries_shipped_to', 'inventory_total', 'has_urgency_banner',\n",
       "       'urgency_text', 'origin_country', 'merchant_title',\n",
       "       'merchant_info_subtitle', 'merchant_rating_count', 'merchant_rating',\n",
       "       'merchant_id', 'merchant_has_profile_picture',\n",
       "       'merchant_profile_picture', 'product_picture', 'product_id',\n",
       "       'crawl_month', 'subtitle_rating'],\n",
       "      dtype='object')"
      ]
     },
     "execution_count": 93,
     "metadata": {},
     "output_type": "execute_result"
    }
   ],
   "source": [
    "wish.columns"
   ]
  },
  {
   "cell_type": "markdown",
   "metadata": {},
   "source": [
    "# Crawl Month\n",
    "meta: for info only"
   ]
  },
  {
   "cell_type": "code",
   "execution_count": 94,
   "metadata": {},
   "outputs": [
    {
     "data": {
      "text/plain": [
       "2020-08    1573\n",
       "Name: crawl_month, dtype: int64"
      ]
     },
     "execution_count": 94,
     "metadata": {},
     "output_type": "execute_result"
    }
   ],
   "source": [
    "wish['crawl_month'].value_counts()"
   ]
  },
  {
   "cell_type": "code",
   "execution_count": 95,
   "metadata": {},
   "outputs": [],
   "source": [
    "del wish['crawl_month']"
   ]
  },
  {
   "cell_type": "code",
   "execution_count": 96,
   "metadata": {},
   "outputs": [
    {
     "data": {
      "text/plain": [
       "Index(['title', 'title_orig', 'price', 'retail_price', 'units_sold',\n",
       "       'uses_ad_boosts', 'rating', 'rating_count', 'rating_five_count',\n",
       "       'rating_four_count', 'rating_three_count', 'rating_two_count',\n",
       "       'rating_one_count', 'badges_count', 'badge_local_product',\n",
       "       'badge_product_quality', 'badge_fast_shipping', 'tags', 'product_color',\n",
       "       'product_variation_size_id', 'product_variation_inventory',\n",
       "       'shipping_option_name', 'shipping_option_price', 'shipping_is_express',\n",
       "       'countries_shipped_to', 'inventory_total', 'has_urgency_banner',\n",
       "       'urgency_text', 'origin_country', 'merchant_title',\n",
       "       'merchant_info_subtitle', 'merchant_rating_count', 'merchant_rating',\n",
       "       'merchant_id', 'merchant_has_profile_picture',\n",
       "       'merchant_profile_picture', 'product_picture', 'product_id',\n",
       "       'subtitle_rating'],\n",
       "      dtype='object')"
      ]
     },
     "execution_count": 96,
     "metadata": {},
     "output_type": "execute_result"
    }
   ],
   "source": [
    "wish.columns"
   ]
  },
  {
   "cell_type": "markdown",
   "metadata": {},
   "source": [
    "# Creating New Columns "
   ]
  },
  {
   "cell_type": "code",
   "execution_count": null,
   "metadata": {},
   "outputs": [],
   "source": [
    "I am making a new column that has the count of the individual tags "
   ]
  },
  {
   "cell_type": "code",
   "execution_count": 97,
   "metadata": {},
   "outputs": [],
   "source": [
    "# Check the number of tags for each product\n",
    "def tag_count(tags):\n",
    "    tag_str = tags\n",
    "    prod_tags = tag_str.split(',')\n",
    "    return len(prod_tags)\n",
    "    \n",
    "wish['tag_count'] = wish['tags'].apply(tag_count)"
   ]
  },
  {
   "cell_type": "code",
   "execution_count": 98,
   "metadata": {},
   "outputs": [
    {
     "data": {
      "text/plain": [
       "0    24\n",
       "1    15\n",
       "2    19\n",
       "3    18\n",
       "4    13\n",
       "Name: tag_count, dtype: int64"
      ]
     },
     "execution_count": 98,
     "metadata": {},
     "output_type": "execute_result"
    }
   ],
   "source": [
    "wish['tag_count'].head()"
   ]
  },
  {
   "cell_type": "markdown",
   "metadata": {},
   "source": [
    "Creating a new column which will tell me if the title and title_orig are the same."
   ]
  },
  {
   "cell_type": "code",
   "execution_count": 99,
   "metadata": {},
   "outputs": [],
   "source": [
    "def is_trans(trans,origi):\n",
    "    if trans == origi:\n",
    "        return 0\n",
    "    else:\n",
    "        return 1\n",
    "    \n",
    "wish['title_translated'] = wish.apply(lambda x: is_trans(x.title, x.title_orig), axis=1 ) "
   ]
  },
  {
   "cell_type": "code",
   "execution_count": 100,
   "metadata": {},
   "outputs": [
    {
     "data": {
      "text/plain": [
       "0    0\n",
       "1    1\n",
       "2    1\n",
       "3    1\n",
       "4    1\n",
       "Name: title_translated, dtype: int64"
      ]
     },
     "execution_count": 100,
     "metadata": {},
     "output_type": "execute_result"
    }
   ],
   "source": [
    "wish['title_translated'].head()"
   ]
  },
  {
   "cell_type": "markdown",
   "metadata": {},
   "source": [
    "Created a new column to have a percentage of how many 5,4,3,2,1 star ratings "
   ]
  },
  {
   "cell_type": "code",
   "execution_count": 101,
   "metadata": {},
   "outputs": [],
   "source": [
    "def rating_percent(s_count,t_count):\n",
    "    if s_count == 0:\n",
    "        return 0\n",
    "    else:\n",
    "        return s_count/t_count * 100\n",
    "    \n",
    "wish['rating_five_percent'] = wish.apply(lambda x: rating_percent(x.rating_five_count, x.rating_count), axis = 1)\n",
    "wish['rating_four_percent'] = wish.apply(lambda x: rating_percent(x.rating_four_count, x.rating_count), axis = 1)\n",
    "wish['rating_three_percent'] = wish.apply(lambda x: rating_percent(x.rating_three_count, x.rating_count), axis = 1)\n",
    "wish['rating_two_percent'] = wish.apply(lambda x: rating_percent(x.rating_two_count, x.rating_count), axis = 1)\n",
    "wish['rating_one_percent'] = wish.apply(lambda x: rating_percent(x.rating_one_count, x.rating_count), axis = 1)"
   ]
  },
  {
   "cell_type": "code",
   "execution_count": 102,
   "metadata": {},
   "outputs": [
    {
     "data": {
      "text/html": [
       "<div>\n",
       "<style scoped>\n",
       "    .dataframe tbody tr th:only-of-type {\n",
       "        vertical-align: middle;\n",
       "    }\n",
       "\n",
       "    .dataframe tbody tr th {\n",
       "        vertical-align: top;\n",
       "    }\n",
       "\n",
       "    .dataframe thead th {\n",
       "        text-align: right;\n",
       "    }\n",
       "</style>\n",
       "<table border=\"1\" class=\"dataframe\">\n",
       "  <thead>\n",
       "    <tr style=\"text-align: right;\">\n",
       "      <th></th>\n",
       "      <th>title</th>\n",
       "      <th>title_orig</th>\n",
       "      <th>price</th>\n",
       "      <th>retail_price</th>\n",
       "      <th>units_sold</th>\n",
       "      <th>uses_ad_boosts</th>\n",
       "      <th>rating</th>\n",
       "      <th>rating_count</th>\n",
       "      <th>rating_five_count</th>\n",
       "      <th>rating_four_count</th>\n",
       "      <th>rating_three_count</th>\n",
       "      <th>rating_two_count</th>\n",
       "      <th>rating_one_count</th>\n",
       "      <th>badges_count</th>\n",
       "      <th>badge_local_product</th>\n",
       "      <th>badge_product_quality</th>\n",
       "      <th>badge_fast_shipping</th>\n",
       "      <th>tags</th>\n",
       "      <th>product_color</th>\n",
       "      <th>product_variation_size_id</th>\n",
       "      <th>product_variation_inventory</th>\n",
       "      <th>shipping_option_name</th>\n",
       "      <th>shipping_option_price</th>\n",
       "      <th>shipping_is_express</th>\n",
       "      <th>countries_shipped_to</th>\n",
       "      <th>inventory_total</th>\n",
       "      <th>has_urgency_banner</th>\n",
       "      <th>urgency_text</th>\n",
       "      <th>origin_country</th>\n",
       "      <th>merchant_title</th>\n",
       "      <th>merchant_info_subtitle</th>\n",
       "      <th>merchant_rating_count</th>\n",
       "      <th>merchant_rating</th>\n",
       "      <th>merchant_id</th>\n",
       "      <th>merchant_has_profile_picture</th>\n",
       "      <th>merchant_profile_picture</th>\n",
       "      <th>product_picture</th>\n",
       "      <th>product_id</th>\n",
       "      <th>subtitle_rating</th>\n",
       "      <th>tag_count</th>\n",
       "      <th>title_translated</th>\n",
       "      <th>rating_five_percent</th>\n",
       "      <th>rating_four_percent</th>\n",
       "      <th>rating_three_percent</th>\n",
       "      <th>rating_two_percent</th>\n",
       "      <th>rating_one_percent</th>\n",
       "    </tr>\n",
       "  </thead>\n",
       "  <tbody>\n",
       "    <tr>\n",
       "      <th>0</th>\n",
       "      <td>2020 Summer Vintage Flamingo Print  Pajamas Se...</td>\n",
       "      <td>2020 Summer Vintage Flamingo Print  Pajamas Se...</td>\n",
       "      <td>16.00</td>\n",
       "      <td>14</td>\n",
       "      <td>100</td>\n",
       "      <td>0</td>\n",
       "      <td>3.76</td>\n",
       "      <td>54</td>\n",
       "      <td>26.0</td>\n",
       "      <td>8.0</td>\n",
       "      <td>10.0</td>\n",
       "      <td>1.0</td>\n",
       "      <td>9.0</td>\n",
       "      <td>0</td>\n",
       "      <td>0</td>\n",
       "      <td>0</td>\n",
       "      <td>0</td>\n",
       "      <td>Summer,Fashion,womenunderwearsuit,printedpajam...</td>\n",
       "      <td>white</td>\n",
       "      <td>M</td>\n",
       "      <td>50</td>\n",
       "      <td>Livraison standard</td>\n",
       "      <td>4</td>\n",
       "      <td>0</td>\n",
       "      <td>34</td>\n",
       "      <td>50</td>\n",
       "      <td>1.0</td>\n",
       "      <td>Quantité limitée !</td>\n",
       "      <td>CN</td>\n",
       "      <td>zgrdejia</td>\n",
       "      <td>(568 notes)</td>\n",
       "      <td>568</td>\n",
       "      <td>4.128521</td>\n",
       "      <td>595097d6a26f6e070cb878d1</td>\n",
       "      <td>0</td>\n",
       "      <td>NaN</td>\n",
       "      <td>https://contestimg.wish.com/api/webimage/5e9ae...</td>\n",
       "      <td>5e9ae51d43d6a96e303acdb0</td>\n",
       "      <td>0</td>\n",
       "      <td>24</td>\n",
       "      <td>0</td>\n",
       "      <td>48.148148</td>\n",
       "      <td>14.814815</td>\n",
       "      <td>18.518519</td>\n",
       "      <td>1.851852</td>\n",
       "      <td>16.666667</td>\n",
       "    </tr>\n",
       "    <tr>\n",
       "      <th>1</th>\n",
       "      <td>SSHOUSE Summer Casual Sleeveless Soirée Party ...</td>\n",
       "      <td>Women's Casual Summer Sleeveless Sexy Mini Dress</td>\n",
       "      <td>8.00</td>\n",
       "      <td>22</td>\n",
       "      <td>20000</td>\n",
       "      <td>1</td>\n",
       "      <td>3.45</td>\n",
       "      <td>6135</td>\n",
       "      <td>2269.0</td>\n",
       "      <td>1027.0</td>\n",
       "      <td>1118.0</td>\n",
       "      <td>644.0</td>\n",
       "      <td>1077.0</td>\n",
       "      <td>0</td>\n",
       "      <td>0</td>\n",
       "      <td>0</td>\n",
       "      <td>0</td>\n",
       "      <td>Mini,womens dresses,Summer,Patchwork,fashion d...</td>\n",
       "      <td>green</td>\n",
       "      <td>XS</td>\n",
       "      <td>50</td>\n",
       "      <td>Livraison standard</td>\n",
       "      <td>2</td>\n",
       "      <td>0</td>\n",
       "      <td>41</td>\n",
       "      <td>50</td>\n",
       "      <td>1.0</td>\n",
       "      <td>Quantité limitée !</td>\n",
       "      <td>CN</td>\n",
       "      <td>SaraHouse</td>\n",
       "      <td>83 % avis positifs (17,752 notes)</td>\n",
       "      <td>17752</td>\n",
       "      <td>3.899673</td>\n",
       "      <td>56458aa03a698c35c9050988</td>\n",
       "      <td>0</td>\n",
       "      <td>NaN</td>\n",
       "      <td>https://contestimg.wish.com/api/webimage/58940...</td>\n",
       "      <td>58940d436a0d3d5da4e95a38</td>\n",
       "      <td>1</td>\n",
       "      <td>15</td>\n",
       "      <td>1</td>\n",
       "      <td>36.984515</td>\n",
       "      <td>16.740016</td>\n",
       "      <td>18.223309</td>\n",
       "      <td>10.497148</td>\n",
       "      <td>17.555012</td>\n",
       "    </tr>\n",
       "    <tr>\n",
       "      <th>2</th>\n",
       "      <td>2020 Nouvelle Arrivée Femmes Printemps et Été ...</td>\n",
       "      <td>2020 New Arrival Women Spring and Summer Beach...</td>\n",
       "      <td>8.00</td>\n",
       "      <td>43</td>\n",
       "      <td>100</td>\n",
       "      <td>0</td>\n",
       "      <td>3.57</td>\n",
       "      <td>14</td>\n",
       "      <td>5.0</td>\n",
       "      <td>4.0</td>\n",
       "      <td>2.0</td>\n",
       "      <td>0.0</td>\n",
       "      <td>3.0</td>\n",
       "      <td>0</td>\n",
       "      <td>0</td>\n",
       "      <td>0</td>\n",
       "      <td>0</td>\n",
       "      <td>Summer,cardigan,women beachwear,chiffon,Sexy w...</td>\n",
       "      <td>leopardprint</td>\n",
       "      <td>XS</td>\n",
       "      <td>1</td>\n",
       "      <td>Livraison standard</td>\n",
       "      <td>3</td>\n",
       "      <td>0</td>\n",
       "      <td>36</td>\n",
       "      <td>50</td>\n",
       "      <td>1.0</td>\n",
       "      <td>Quantité limitée !</td>\n",
       "      <td>CN</td>\n",
       "      <td>hxt520</td>\n",
       "      <td>86 % avis positifs (295 notes)</td>\n",
       "      <td>295</td>\n",
       "      <td>3.989831</td>\n",
       "      <td>5d464a1ffdf7bc44ee933c65</td>\n",
       "      <td>0</td>\n",
       "      <td>NaN</td>\n",
       "      <td>https://contestimg.wish.com/api/webimage/5ea10...</td>\n",
       "      <td>5ea10e2c617580260d55310a</td>\n",
       "      <td>1</td>\n",
       "      <td>19</td>\n",
       "      <td>1</td>\n",
       "      <td>35.714286</td>\n",
       "      <td>28.571429</td>\n",
       "      <td>14.285714</td>\n",
       "      <td>0.000000</td>\n",
       "      <td>21.428571</td>\n",
       "    </tr>\n",
       "    <tr>\n",
       "      <th>3</th>\n",
       "      <td>Hot Summer Cool T-shirt pour les femmes Mode T...</td>\n",
       "      <td>Hot Summer Cool T Shirt for Women Fashion Tops...</td>\n",
       "      <td>8.00</td>\n",
       "      <td>8</td>\n",
       "      <td>5000</td>\n",
       "      <td>1</td>\n",
       "      <td>4.03</td>\n",
       "      <td>579</td>\n",
       "      <td>295.0</td>\n",
       "      <td>119.0</td>\n",
       "      <td>87.0</td>\n",
       "      <td>42.0</td>\n",
       "      <td>36.0</td>\n",
       "      <td>0</td>\n",
       "      <td>0</td>\n",
       "      <td>0</td>\n",
       "      <td>0</td>\n",
       "      <td>Summer,Shorts,Cotton,Cotton T Shirt,Sleeve,pri...</td>\n",
       "      <td>black</td>\n",
       "      <td>M</td>\n",
       "      <td>50</td>\n",
       "      <td>Livraison standard</td>\n",
       "      <td>2</td>\n",
       "      <td>0</td>\n",
       "      <td>41</td>\n",
       "      <td>50</td>\n",
       "      <td>0.0</td>\n",
       "      <td>NaN</td>\n",
       "      <td>CN</td>\n",
       "      <td>allenfan</td>\n",
       "      <td>(23,832 notes)</td>\n",
       "      <td>23832</td>\n",
       "      <td>4.020435</td>\n",
       "      <td>58cfdefdacb37b556efdff7c</td>\n",
       "      <td>0</td>\n",
       "      <td>NaN</td>\n",
       "      <td>https://contestimg.wish.com/api/webimage/5cedf...</td>\n",
       "      <td>5cedf17ad1d44c52c59e4aca</td>\n",
       "      <td>0</td>\n",
       "      <td>18</td>\n",
       "      <td>1</td>\n",
       "      <td>50.949914</td>\n",
       "      <td>20.552677</td>\n",
       "      <td>15.025907</td>\n",
       "      <td>7.253886</td>\n",
       "      <td>6.217617</td>\n",
       "    </tr>\n",
       "    <tr>\n",
       "      <th>4</th>\n",
       "      <td>Femmes Shorts d'été à lacets taille élastique ...</td>\n",
       "      <td>Women Summer Shorts Lace Up Elastic Waistband ...</td>\n",
       "      <td>2.72</td>\n",
       "      <td>3</td>\n",
       "      <td>100</td>\n",
       "      <td>1</td>\n",
       "      <td>3.10</td>\n",
       "      <td>20</td>\n",
       "      <td>6.0</td>\n",
       "      <td>4.0</td>\n",
       "      <td>2.0</td>\n",
       "      <td>2.0</td>\n",
       "      <td>6.0</td>\n",
       "      <td>0</td>\n",
       "      <td>0</td>\n",
       "      <td>0</td>\n",
       "      <td>0</td>\n",
       "      <td>Summer,Plus Size,Lace,Casual pants,Bottom,pant...</td>\n",
       "      <td>yellow</td>\n",
       "      <td>S</td>\n",
       "      <td>1</td>\n",
       "      <td>Livraison standard</td>\n",
       "      <td>1</td>\n",
       "      <td>0</td>\n",
       "      <td>35</td>\n",
       "      <td>50</td>\n",
       "      <td>1.0</td>\n",
       "      <td>Quantité limitée !</td>\n",
       "      <td>CN</td>\n",
       "      <td>youngpeopleshop</td>\n",
       "      <td>85 % avis positifs (14,482 notes)</td>\n",
       "      <td>14482</td>\n",
       "      <td>4.001588</td>\n",
       "      <td>5ab3b592c3911a095ad5dadb</td>\n",
       "      <td>0</td>\n",
       "      <td>NaN</td>\n",
       "      <td>https://contestimg.wish.com/api/webimage/5ebf5...</td>\n",
       "      <td>5ebf5819ebac372b070b0e70</td>\n",
       "      <td>1</td>\n",
       "      <td>13</td>\n",
       "      <td>1</td>\n",
       "      <td>30.000000</td>\n",
       "      <td>20.000000</td>\n",
       "      <td>10.000000</td>\n",
       "      <td>10.000000</td>\n",
       "      <td>30.000000</td>\n",
       "    </tr>\n",
       "    <tr>\n",
       "      <th>5</th>\n",
       "      <td>Plus la taille d'été femmes décontracté sans m...</td>\n",
       "      <td>Plus Size Summer Women Casual Sleeveless Rompe...</td>\n",
       "      <td>3.92</td>\n",
       "      <td>9</td>\n",
       "      <td>10</td>\n",
       "      <td>0</td>\n",
       "      <td>5.00</td>\n",
       "      <td>1</td>\n",
       "      <td>1.0</td>\n",
       "      <td>0.0</td>\n",
       "      <td>0.0</td>\n",
       "      <td>0.0</td>\n",
       "      <td>0.0</td>\n",
       "      <td>0</td>\n",
       "      <td>0</td>\n",
       "      <td>0</td>\n",
       "      <td>0</td>\n",
       "      <td>Deep V-Neck,Summer,Plus Size,Spaghetti Strap,O...</td>\n",
       "      <td>navyblue</td>\n",
       "      <td>Size-XS</td>\n",
       "      <td>1</td>\n",
       "      <td>Livraison standard</td>\n",
       "      <td>1</td>\n",
       "      <td>0</td>\n",
       "      <td>40</td>\n",
       "      <td>50</td>\n",
       "      <td>0.0</td>\n",
       "      <td>NaN</td>\n",
       "      <td>CN</td>\n",
       "      <td>zhoulinglinga</td>\n",
       "      <td>75 % avis positifs (65 notes)</td>\n",
       "      <td>65</td>\n",
       "      <td>3.507692</td>\n",
       "      <td>5e4b9c3801ba9d210036fc5a</td>\n",
       "      <td>0</td>\n",
       "      <td>NaN</td>\n",
       "      <td>https://contestimg.wish.com/api/webimage/5ec64...</td>\n",
       "      <td>5ec645bafd107a02279c8c54</td>\n",
       "      <td>1</td>\n",
       "      <td>10</td>\n",
       "      <td>1</td>\n",
       "      <td>100.000000</td>\n",
       "      <td>0.000000</td>\n",
       "      <td>0.000000</td>\n",
       "      <td>0.000000</td>\n",
       "      <td>0.000000</td>\n",
       "    </tr>\n",
       "    <tr>\n",
       "      <th>6</th>\n",
       "      <td>Women Fashion Loose Lace Blouse Blouse V Neck ...</td>\n",
       "      <td>Women Fashion Loose Lace Blouse V Neck Bat Sle...</td>\n",
       "      <td>7.00</td>\n",
       "      <td>6</td>\n",
       "      <td>50000</td>\n",
       "      <td>0</td>\n",
       "      <td>3.84</td>\n",
       "      <td>6742</td>\n",
       "      <td>3172.0</td>\n",
       "      <td>1352.0</td>\n",
       "      <td>971.0</td>\n",
       "      <td>490.0</td>\n",
       "      <td>757.0</td>\n",
       "      <td>0</td>\n",
       "      <td>0</td>\n",
       "      <td>0</td>\n",
       "      <td>0</td>\n",
       "      <td>blouse,Women,lace t shirt,summer t-shirts,Lace...</td>\n",
       "      <td>white</td>\n",
       "      <td>XS</td>\n",
       "      <td>50</td>\n",
       "      <td>Livraison standard</td>\n",
       "      <td>2</td>\n",
       "      <td>0</td>\n",
       "      <td>31</td>\n",
       "      <td>50</td>\n",
       "      <td>0.0</td>\n",
       "      <td>NaN</td>\n",
       "      <td>CN</td>\n",
       "      <td>Unique Li Fashion Shop</td>\n",
       "      <td>86 % avis positifs (10,194 notes)</td>\n",
       "      <td>10194</td>\n",
       "      <td>4.076516</td>\n",
       "      <td>5652f4053a698c76dc9a3f37</td>\n",
       "      <td>1</td>\n",
       "      <td>https://s3-us-west-1.amazonaws.com/sweeper-pro...</td>\n",
       "      <td>https://contestimg.wish.com/api/webimage/5c63a...</td>\n",
       "      <td>5c63a337d5e2ce4bbb3152cf</td>\n",
       "      <td>1</td>\n",
       "      <td>21</td>\n",
       "      <td>1</td>\n",
       "      <td>47.048354</td>\n",
       "      <td>20.053397</td>\n",
       "      <td>14.402255</td>\n",
       "      <td>7.267873</td>\n",
       "      <td>11.228122</td>\n",
       "    </tr>\n",
       "    <tr>\n",
       "      <th>7</th>\n",
       "      <td>Robe tunique ample femme Robe d'été Robe en je...</td>\n",
       "      <td>Women's Baggy Tunic Dress Summer Dress Denim D...</td>\n",
       "      <td>12.00</td>\n",
       "      <td>11</td>\n",
       "      <td>1000</td>\n",
       "      <td>0</td>\n",
       "      <td>3.76</td>\n",
       "      <td>286</td>\n",
       "      <td>120.0</td>\n",
       "      <td>56.0</td>\n",
       "      <td>61.0</td>\n",
       "      <td>18.0</td>\n",
       "      <td>31.0</td>\n",
       "      <td>0</td>\n",
       "      <td>0</td>\n",
       "      <td>0</td>\n",
       "      <td>0</td>\n",
       "      <td>Jeans,Fashion,tunic,Shirt,Summer,Dress,Denim,s...</td>\n",
       "      <td>blue</td>\n",
       "      <td>M.</td>\n",
       "      <td>50</td>\n",
       "      <td>Livraison standard</td>\n",
       "      <td>3</td>\n",
       "      <td>0</td>\n",
       "      <td>139</td>\n",
       "      <td>50</td>\n",
       "      <td>0.0</td>\n",
       "      <td>NaN</td>\n",
       "      <td>CN</td>\n",
       "      <td>So Band</td>\n",
       "      <td>(342 notes)</td>\n",
       "      <td>342</td>\n",
       "      <td>3.681287</td>\n",
       "      <td>5d45349676befe65691dcfbb</td>\n",
       "      <td>0</td>\n",
       "      <td>NaN</td>\n",
       "      <td>https://contestimg.wish.com/api/webimage/5e0ae...</td>\n",
       "      <td>5e0ae5ebc2efb76ccf0a3391</td>\n",
       "      <td>0</td>\n",
       "      <td>16</td>\n",
       "      <td>1</td>\n",
       "      <td>41.958042</td>\n",
       "      <td>19.580420</td>\n",
       "      <td>21.328671</td>\n",
       "      <td>6.293706</td>\n",
       "      <td>10.839161</td>\n",
       "    </tr>\n",
       "    <tr>\n",
       "      <th>8</th>\n",
       "      <td>Robe d'été décontractée à manches courtes pour...</td>\n",
       "      <td>Women's Summer Casual Dress Fashion Short Slee...</td>\n",
       "      <td>11.00</td>\n",
       "      <td>84</td>\n",
       "      <td>100</td>\n",
       "      <td>1</td>\n",
       "      <td>3.47</td>\n",
       "      <td>15</td>\n",
       "      <td>6.0</td>\n",
       "      <td>2.0</td>\n",
       "      <td>3.0</td>\n",
       "      <td>1.0</td>\n",
       "      <td>3.0</td>\n",
       "      <td>0</td>\n",
       "      <td>0</td>\n",
       "      <td>0</td>\n",
       "      <td>0</td>\n",
       "      <td>slim dress,summer dress,womenshortsleevedre,Sl...</td>\n",
       "      <td>black</td>\n",
       "      <td>M</td>\n",
       "      <td>50</td>\n",
       "      <td>Livraison standard</td>\n",
       "      <td>2</td>\n",
       "      <td>0</td>\n",
       "      <td>36</td>\n",
       "      <td>50</td>\n",
       "      <td>1.0</td>\n",
       "      <td>Quantité limitée !</td>\n",
       "      <td>CN</td>\n",
       "      <td>chenxiangjunjun</td>\n",
       "      <td>82 % avis positifs (330 notes)</td>\n",
       "      <td>330</td>\n",
       "      <td>3.803030</td>\n",
       "      <td>5d42980e8388970d32294ddc</td>\n",
       "      <td>0</td>\n",
       "      <td>NaN</td>\n",
       "      <td>https://contestimg.wish.com/api/webimage/5e6f1...</td>\n",
       "      <td>5e6f1fb7fe4a5bb4b8bf36e5</td>\n",
       "      <td>1</td>\n",
       "      <td>14</td>\n",
       "      <td>1</td>\n",
       "      <td>40.000000</td>\n",
       "      <td>13.333333</td>\n",
       "      <td>20.000000</td>\n",
       "      <td>6.666667</td>\n",
       "      <td>20.000000</td>\n",
       "    </tr>\n",
       "    <tr>\n",
       "      <th>9</th>\n",
       "      <td>Femmes d'été, plus la taille décontractée lâch...</td>\n",
       "      <td>Summer Women Plus Size Casual Loose V Neck Sho...</td>\n",
       "      <td>5.78</td>\n",
       "      <td>22</td>\n",
       "      <td>5000</td>\n",
       "      <td>0</td>\n",
       "      <td>3.60</td>\n",
       "      <td>687</td>\n",
       "      <td>287.0</td>\n",
       "      <td>128.0</td>\n",
       "      <td>92.0</td>\n",
       "      <td>68.0</td>\n",
       "      <td>112.0</td>\n",
       "      <td>0</td>\n",
       "      <td>0</td>\n",
       "      <td>0</td>\n",
       "      <td>0</td>\n",
       "      <td>blouse,Summer,Plus Size,Floral print,Necks,Sle...</td>\n",
       "      <td>beige</td>\n",
       "      <td>S</td>\n",
       "      <td>50</td>\n",
       "      <td>Livraison standard</td>\n",
       "      <td>2</td>\n",
       "      <td>0</td>\n",
       "      <td>33</td>\n",
       "      <td>50</td>\n",
       "      <td>0.0</td>\n",
       "      <td>NaN</td>\n",
       "      <td>CN</td>\n",
       "      <td>Luowei clothe</td>\n",
       "      <td>85 % avis positifs (5,534 notes)</td>\n",
       "      <td>5534</td>\n",
       "      <td>3.999819</td>\n",
       "      <td>5ba2251b4315d12ebce873fa</td>\n",
       "      <td>0</td>\n",
       "      <td>NaN</td>\n",
       "      <td>https://contestimg.wish.com/api/webimage/5ccfa...</td>\n",
       "      <td>5ccfaf238a8d535cec2dfb47</td>\n",
       "      <td>1</td>\n",
       "      <td>18</td>\n",
       "      <td>1</td>\n",
       "      <td>41.775837</td>\n",
       "      <td>18.631732</td>\n",
       "      <td>13.391557</td>\n",
       "      <td>9.898108</td>\n",
       "      <td>16.302766</td>\n",
       "    </tr>\n",
       "  </tbody>\n",
       "</table>\n",
       "</div>"
      ],
      "text/plain": [
       "                                               title  \\\n",
       "0  2020 Summer Vintage Flamingo Print  Pajamas Se...   \n",
       "1  SSHOUSE Summer Casual Sleeveless Soirée Party ...   \n",
       "2  2020 Nouvelle Arrivée Femmes Printemps et Été ...   \n",
       "3  Hot Summer Cool T-shirt pour les femmes Mode T...   \n",
       "4  Femmes Shorts d'été à lacets taille élastique ...   \n",
       "5  Plus la taille d'été femmes décontracté sans m...   \n",
       "6  Women Fashion Loose Lace Blouse Blouse V Neck ...   \n",
       "7  Robe tunique ample femme Robe d'été Robe en je...   \n",
       "8  Robe d'été décontractée à manches courtes pour...   \n",
       "9  Femmes d'été, plus la taille décontractée lâch...   \n",
       "\n",
       "                                          title_orig  price  retail_price  \\\n",
       "0  2020 Summer Vintage Flamingo Print  Pajamas Se...  16.00            14   \n",
       "1   Women's Casual Summer Sleeveless Sexy Mini Dress   8.00            22   \n",
       "2  2020 New Arrival Women Spring and Summer Beach...   8.00            43   \n",
       "3  Hot Summer Cool T Shirt for Women Fashion Tops...   8.00             8   \n",
       "4  Women Summer Shorts Lace Up Elastic Waistband ...   2.72             3   \n",
       "5  Plus Size Summer Women Casual Sleeveless Rompe...   3.92             9   \n",
       "6  Women Fashion Loose Lace Blouse V Neck Bat Sle...   7.00             6   \n",
       "7  Women's Baggy Tunic Dress Summer Dress Denim D...  12.00            11   \n",
       "8  Women's Summer Casual Dress Fashion Short Slee...  11.00            84   \n",
       "9  Summer Women Plus Size Casual Loose V Neck Sho...   5.78            22   \n",
       "\n",
       "   units_sold  uses_ad_boosts  rating  rating_count  rating_five_count  \\\n",
       "0         100               0    3.76            54               26.0   \n",
       "1       20000               1    3.45          6135             2269.0   \n",
       "2         100               0    3.57            14                5.0   \n",
       "3        5000               1    4.03           579              295.0   \n",
       "4         100               1    3.10            20                6.0   \n",
       "5          10               0    5.00             1                1.0   \n",
       "6       50000               0    3.84          6742             3172.0   \n",
       "7        1000               0    3.76           286              120.0   \n",
       "8         100               1    3.47            15                6.0   \n",
       "9        5000               0    3.60           687              287.0   \n",
       "\n",
       "   rating_four_count  rating_three_count  rating_two_count  rating_one_count  \\\n",
       "0                8.0                10.0               1.0               9.0   \n",
       "1             1027.0              1118.0             644.0            1077.0   \n",
       "2                4.0                 2.0               0.0               3.0   \n",
       "3              119.0                87.0              42.0              36.0   \n",
       "4                4.0                 2.0               2.0               6.0   \n",
       "5                0.0                 0.0               0.0               0.0   \n",
       "6             1352.0               971.0             490.0             757.0   \n",
       "7               56.0                61.0              18.0              31.0   \n",
       "8                2.0                 3.0               1.0               3.0   \n",
       "9              128.0                92.0              68.0             112.0   \n",
       "\n",
       "   badges_count  badge_local_product  badge_product_quality  \\\n",
       "0             0                    0                      0   \n",
       "1             0                    0                      0   \n",
       "2             0                    0                      0   \n",
       "3             0                    0                      0   \n",
       "4             0                    0                      0   \n",
       "5             0                    0                      0   \n",
       "6             0                    0                      0   \n",
       "7             0                    0                      0   \n",
       "8             0                    0                      0   \n",
       "9             0                    0                      0   \n",
       "\n",
       "   badge_fast_shipping                                               tags  \\\n",
       "0                    0  Summer,Fashion,womenunderwearsuit,printedpajam...   \n",
       "1                    0  Mini,womens dresses,Summer,Patchwork,fashion d...   \n",
       "2                    0  Summer,cardigan,women beachwear,chiffon,Sexy w...   \n",
       "3                    0  Summer,Shorts,Cotton,Cotton T Shirt,Sleeve,pri...   \n",
       "4                    0  Summer,Plus Size,Lace,Casual pants,Bottom,pant...   \n",
       "5                    0  Deep V-Neck,Summer,Plus Size,Spaghetti Strap,O...   \n",
       "6                    0  blouse,Women,lace t shirt,summer t-shirts,Lace...   \n",
       "7                    0  Jeans,Fashion,tunic,Shirt,Summer,Dress,Denim,s...   \n",
       "8                    0  slim dress,summer dress,womenshortsleevedre,Sl...   \n",
       "9                    0  blouse,Summer,Plus Size,Floral print,Necks,Sle...   \n",
       "\n",
       "  product_color product_variation_size_id  product_variation_inventory  \\\n",
       "0         white                         M                           50   \n",
       "1         green                        XS                           50   \n",
       "2  leopardprint                        XS                            1   \n",
       "3         black                         M                           50   \n",
       "4        yellow                         S                            1   \n",
       "5      navyblue                   Size-XS                            1   \n",
       "6         white                        XS                           50   \n",
       "7          blue                        M.                           50   \n",
       "8         black                         M                           50   \n",
       "9         beige                         S                           50   \n",
       "\n",
       "  shipping_option_name  shipping_option_price  shipping_is_express  \\\n",
       "0   Livraison standard                      4                    0   \n",
       "1   Livraison standard                      2                    0   \n",
       "2   Livraison standard                      3                    0   \n",
       "3   Livraison standard                      2                    0   \n",
       "4   Livraison standard                      1                    0   \n",
       "5   Livraison standard                      1                    0   \n",
       "6   Livraison standard                      2                    0   \n",
       "7   Livraison standard                      3                    0   \n",
       "8   Livraison standard                      2                    0   \n",
       "9   Livraison standard                      2                    0   \n",
       "\n",
       "   countries_shipped_to  inventory_total  has_urgency_banner  \\\n",
       "0                    34               50                 1.0   \n",
       "1                    41               50                 1.0   \n",
       "2                    36               50                 1.0   \n",
       "3                    41               50                 0.0   \n",
       "4                    35               50                 1.0   \n",
       "5                    40               50                 0.0   \n",
       "6                    31               50                 0.0   \n",
       "7                   139               50                 0.0   \n",
       "8                    36               50                 1.0   \n",
       "9                    33               50                 0.0   \n",
       "\n",
       "         urgency_text origin_country          merchant_title  \\\n",
       "0  Quantité limitée !             CN                zgrdejia   \n",
       "1  Quantité limitée !             CN               SaraHouse   \n",
       "2  Quantité limitée !             CN                  hxt520   \n",
       "3                 NaN             CN                allenfan   \n",
       "4  Quantité limitée !             CN         youngpeopleshop   \n",
       "5                 NaN             CN           zhoulinglinga   \n",
       "6                 NaN             CN  Unique Li Fashion Shop   \n",
       "7                 NaN             CN                 So Band   \n",
       "8  Quantité limitée !             CN         chenxiangjunjun   \n",
       "9                 NaN             CN           Luowei clothe   \n",
       "\n",
       "              merchant_info_subtitle  merchant_rating_count  merchant_rating  \\\n",
       "0                        (568 notes)                    568         4.128521   \n",
       "1  83 % avis positifs (17,752 notes)                  17752         3.899673   \n",
       "2     86 % avis positifs (295 notes)                    295         3.989831   \n",
       "3                     (23,832 notes)                  23832         4.020435   \n",
       "4  85 % avis positifs (14,482 notes)                  14482         4.001588   \n",
       "5      75 % avis positifs (65 notes)                     65         3.507692   \n",
       "6  86 % avis positifs (10,194 notes)                  10194         4.076516   \n",
       "7                        (342 notes)                    342         3.681287   \n",
       "8     82 % avis positifs (330 notes)                    330         3.803030   \n",
       "9   85 % avis positifs (5,534 notes)                   5534         3.999819   \n",
       "\n",
       "                merchant_id  merchant_has_profile_picture  \\\n",
       "0  595097d6a26f6e070cb878d1                             0   \n",
       "1  56458aa03a698c35c9050988                             0   \n",
       "2  5d464a1ffdf7bc44ee933c65                             0   \n",
       "3  58cfdefdacb37b556efdff7c                             0   \n",
       "4  5ab3b592c3911a095ad5dadb                             0   \n",
       "5  5e4b9c3801ba9d210036fc5a                             0   \n",
       "6  5652f4053a698c76dc9a3f37                             1   \n",
       "7  5d45349676befe65691dcfbb                             0   \n",
       "8  5d42980e8388970d32294ddc                             0   \n",
       "9  5ba2251b4315d12ebce873fa                             0   \n",
       "\n",
       "                            merchant_profile_picture  \\\n",
       "0                                                NaN   \n",
       "1                                                NaN   \n",
       "2                                                NaN   \n",
       "3                                                NaN   \n",
       "4                                                NaN   \n",
       "5                                                NaN   \n",
       "6  https://s3-us-west-1.amazonaws.com/sweeper-pro...   \n",
       "7                                                NaN   \n",
       "8                                                NaN   \n",
       "9                                                NaN   \n",
       "\n",
       "                                     product_picture  \\\n",
       "0  https://contestimg.wish.com/api/webimage/5e9ae...   \n",
       "1  https://contestimg.wish.com/api/webimage/58940...   \n",
       "2  https://contestimg.wish.com/api/webimage/5ea10...   \n",
       "3  https://contestimg.wish.com/api/webimage/5cedf...   \n",
       "4  https://contestimg.wish.com/api/webimage/5ebf5...   \n",
       "5  https://contestimg.wish.com/api/webimage/5ec64...   \n",
       "6  https://contestimg.wish.com/api/webimage/5c63a...   \n",
       "7  https://contestimg.wish.com/api/webimage/5e0ae...   \n",
       "8  https://contestimg.wish.com/api/webimage/5e6f1...   \n",
       "9  https://contestimg.wish.com/api/webimage/5ccfa...   \n",
       "\n",
       "                 product_id  subtitle_rating  tag_count  title_translated  \\\n",
       "0  5e9ae51d43d6a96e303acdb0                0         24                 0   \n",
       "1  58940d436a0d3d5da4e95a38                1         15                 1   \n",
       "2  5ea10e2c617580260d55310a                1         19                 1   \n",
       "3  5cedf17ad1d44c52c59e4aca                0         18                 1   \n",
       "4  5ebf5819ebac372b070b0e70                1         13                 1   \n",
       "5  5ec645bafd107a02279c8c54                1         10                 1   \n",
       "6  5c63a337d5e2ce4bbb3152cf                1         21                 1   \n",
       "7  5e0ae5ebc2efb76ccf0a3391                0         16                 1   \n",
       "8  5e6f1fb7fe4a5bb4b8bf36e5                1         14                 1   \n",
       "9  5ccfaf238a8d535cec2dfb47                1         18                 1   \n",
       "\n",
       "   rating_five_percent  rating_four_percent  rating_three_percent  \\\n",
       "0            48.148148            14.814815             18.518519   \n",
       "1            36.984515            16.740016             18.223309   \n",
       "2            35.714286            28.571429             14.285714   \n",
       "3            50.949914            20.552677             15.025907   \n",
       "4            30.000000            20.000000             10.000000   \n",
       "5           100.000000             0.000000              0.000000   \n",
       "6            47.048354            20.053397             14.402255   \n",
       "7            41.958042            19.580420             21.328671   \n",
       "8            40.000000            13.333333             20.000000   \n",
       "9            41.775837            18.631732             13.391557   \n",
       "\n",
       "   rating_two_percent  rating_one_percent  \n",
       "0            1.851852           16.666667  \n",
       "1           10.497148           17.555012  \n",
       "2            0.000000           21.428571  \n",
       "3            7.253886            6.217617  \n",
       "4           10.000000           30.000000  \n",
       "5            0.000000            0.000000  \n",
       "6            7.267873           11.228122  \n",
       "7            6.293706           10.839161  \n",
       "8            6.666667           20.000000  \n",
       "9            9.898108           16.302766  "
      ]
     },
     "execution_count": 102,
     "metadata": {},
     "output_type": "execute_result"
    }
   ],
   "source": [
    "wish.head(10)"
   ]
  },
  {
   "cell_type": "markdown",
   "metadata": {},
   "source": [
    "Created a new column which shows me the discount rate between retail price and the customer price"
   ]
  },
  {
   "cell_type": "code",
   "execution_count": 103,
   "metadata": {},
   "outputs": [],
   "source": [
    "def dis_per(r_price,buyer_price):\n",
    "    return (r_price - buyer_price) / r_price\n",
    "    \n",
    "wish['discount_rate'] = wish.apply(lambda x: dis_per(x.retail_price, x.price),axis = 1)"
   ]
  },
  {
   "cell_type": "code",
   "execution_count": 105,
   "metadata": {},
   "outputs": [
    {
     "data": {
      "text/plain": [
       "0   -0.142857\n",
       "1    0.636364\n",
       "2    0.813953\n",
       "3    0.000000\n",
       "4    0.093333\n",
       "Name: discount_rate, dtype: float64"
      ]
     },
     "execution_count": 105,
     "metadata": {},
     "output_type": "execute_result"
    }
   ],
   "source": [
    "wish['discount_rate'].head(5)"
   ]
  },
  {
   "cell_type": "code",
   "execution_count": null,
   "metadata": {},
   "outputs": [],
   "source": []
  },
  {
   "cell_type": "code",
   "execution_count": null,
   "metadata": {},
   "outputs": [],
   "source": []
  },
  {
   "cell_type": "code",
   "execution_count": null,
   "metadata": {},
   "outputs": [],
   "source": []
  },
  {
   "cell_type": "code",
   "execution_count": null,
   "metadata": {},
   "outputs": [],
   "source": []
  },
  {
   "cell_type": "code",
   "execution_count": null,
   "metadata": {},
   "outputs": [],
   "source": []
  },
  {
   "cell_type": "code",
   "execution_count": null,
   "metadata": {},
   "outputs": [],
   "source": []
  },
  {
   "cell_type": "code",
   "execution_count": null,
   "metadata": {},
   "outputs": [],
   "source": []
  },
  {
   "cell_type": "code",
   "execution_count": null,
   "metadata": {},
   "outputs": [],
   "source": []
  },
  {
   "cell_type": "code",
   "execution_count": null,
   "metadata": {},
   "outputs": [],
   "source": []
  },
  {
   "cell_type": "code",
   "execution_count": null,
   "metadata": {},
   "outputs": [],
   "source": []
  },
  {
   "cell_type": "code",
   "execution_count": null,
   "metadata": {},
   "outputs": [],
   "source": []
  },
  {
   "cell_type": "code",
   "execution_count": null,
   "metadata": {},
   "outputs": [],
   "source": []
  },
  {
   "cell_type": "code",
   "execution_count": null,
   "metadata": {
    "scrolled": true
   },
   "outputs": [],
   "source": []
  },
  {
   "cell_type": "code",
   "execution_count": null,
   "metadata": {},
   "outputs": [],
   "source": []
  },
  {
   "cell_type": "code",
   "execution_count": null,
   "metadata": {},
   "outputs": [],
   "source": []
  },
  {
   "cell_type": "code",
   "execution_count": null,
   "metadata": {},
   "outputs": [],
   "source": []
  },
  {
   "cell_type": "code",
   "execution_count": null,
   "metadata": {},
   "outputs": [],
   "source": []
  },
  {
   "cell_type": "code",
   "execution_count": null,
   "metadata": {},
   "outputs": [],
   "source": []
  },
  {
   "cell_type": "code",
   "execution_count": null,
   "metadata": {},
   "outputs": [],
   "source": []
  },
  {
   "cell_type": "code",
   "execution_count": null,
   "metadata": {},
   "outputs": [],
   "source": []
  },
  {
   "cell_type": "code",
   "execution_count": null,
   "metadata": {},
   "outputs": [],
   "source": []
  },
  {
   "cell_type": "code",
   "execution_count": null,
   "metadata": {},
   "outputs": [],
   "source": []
  },
  {
   "cell_type": "code",
   "execution_count": null,
   "metadata": {},
   "outputs": [],
   "source": []
  },
  {
   "cell_type": "code",
   "execution_count": null,
   "metadata": {},
   "outputs": [],
   "source": []
  },
  {
   "cell_type": "code",
   "execution_count": null,
   "metadata": {},
   "outputs": [],
   "source": []
  },
  {
   "cell_type": "code",
   "execution_count": null,
   "metadata": {},
   "outputs": [],
   "source": []
  },
  {
   "cell_type": "code",
   "execution_count": null,
   "metadata": {},
   "outputs": [],
   "source": []
  },
  {
   "cell_type": "code",
   "execution_count": null,
   "metadata": {},
   "outputs": [],
   "source": [
    "\n"
   ]
  },
  {
   "cell_type": "code",
   "execution_count": null,
   "metadata": {},
   "outputs": [],
   "source": []
  }
 ],
 "metadata": {
  "kernelspec": {
   "display_name": "Python 3",
   "language": "python",
   "name": "python3"
  },
  "language_info": {
   "codemirror_mode": {
    "name": "ipython",
    "version": 3
   },
   "file_extension": ".py",
   "mimetype": "text/x-python",
   "name": "python",
   "nbconvert_exporter": "python",
   "pygments_lexer": "ipython3",
   "version": "3.7.4"
  }
 },
 "nbformat": 4,
 "nbformat_minor": 4
}
